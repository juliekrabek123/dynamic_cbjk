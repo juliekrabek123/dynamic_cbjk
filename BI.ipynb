{
 "cells": [
  {
   "cell_type": "code",
   "execution_count": 238,
   "metadata": {},
   "outputs": [
    {
     "name": "stdout",
     "output_type": "stream",
     "text": [
      "The autoreload extension is already loaded. To reload it, use:\n",
      "  %reload_ext autoreload\n"
     ]
    }
   ],
   "source": [
    "# a. set magic \n",
    "%load_ext autoreload\n",
    "%autoreload 2\n",
    "\n",
    "# b. load packages \n",
    "import numpy as np\n",
    "\n",
    "# c. local modules\n",
    "from contracept_model_copy import child_model_new\n",
    "from contracept_model import child_model \n",
    "import BI_estimate as estimate\n",
    "import back as solver"
   ]
  },
  {
   "cell_type": "code",
   "execution_count": 239,
   "metadata": {},
   "outputs": [
    {
     "name": "stdout",
     "output_type": "stream",
     "text": [
      "[[0.362 0.374 0.387 0.401 0.416 0.432 0.448 0.465 0.482 0.5   0.517 0.534\n",
      "  0.549 0.563 0.573 0.579 0.581 0.577 0.566 1.   ]\n",
      " [0.177 0.188 0.2   0.213 0.227 0.243 0.26  0.278 0.299 0.321 0.345 0.37\n",
      "  0.398 0.426 0.454 0.482 0.508 0.53  0.546 1.   ]\n",
      " [0.118 0.125 0.132 0.141 0.15  0.161 0.173 0.187 0.203 0.22  0.241 0.264\n",
      "  0.291 0.322 0.356 0.395 0.438 0.483 0.526 1.   ]\n",
      " [0.232 0.235 0.238 0.241 0.245 0.249 0.254 0.26  0.267 0.275 0.285 0.296\n",
      "  0.31  0.327 0.349 0.375 0.408 0.451 0.506 1.   ]\n",
      " [0.555 0.555 0.555 0.555 0.555 0.555 0.555 0.555 0.555 0.555 0.555 0.555\n",
      "  0.555 0.555 0.555 0.555 0.555 0.555 0.555 1.   ]]\n"
     ]
    }
   ],
   "source": [
    "model = child_model()\n",
    "n = model.n\n",
    "\n",
    "# Step 2: Initialize value function and policy\n",
    "T = model.T\n",
    "V = np.nan + np.zeros([n, T])\n",
    "V[:, T - 1] = model.life()\n",
    "pnc1 =  np.nan + np.zeros([n, T])\n",
    "pnc1[:, T-1] = 1\n",
    "\n",
    "# Step 3: Backward induction\n",
    "\n",
    "for t in range(T - 2, -1, -1):\n",
    "    ev1, pnc = model.bellman(ev0 = V[:, t+1], output=2)\n",
    "    V[:, t] = ev1  \n",
    "    pnc1[:, t] = pnc\n",
    "\n",
    "\n",
    "\n",
    "print(pnc1.round(3))\n",
    "#print(V.round(2))\n",
    "\n"
   ]
  },
  {
   "cell_type": "code",
   "execution_count": 241,
   "metadata": {},
   "outputs": [
    {
     "data": {
      "text/html": [
       "<div>\n",
       "<style scoped>\n",
       "    .dataframe tbody tr th:only-of-type {\n",
       "        vertical-align: middle;\n",
       "    }\n",
       "\n",
       "    .dataframe tbody tr th {\n",
       "        vertical-align: top;\n",
       "    }\n",
       "\n",
       "    .dataframe thead th {\n",
       "        text-align: right;\n",
       "    }\n",
       "</style>\n",
       "<table border=\"1\" class=\"dataframe\">\n",
       "  <thead>\n",
       "    <tr style=\"text-align: right;\">\n",
       "      <th></th>\n",
       "      <th>id</th>\n",
       "      <th>t</th>\n",
       "      <th>d</th>\n",
       "      <th>x</th>\n",
       "      <th>dx1</th>\n",
       "      <th>x1</th>\n",
       "    </tr>\n",
       "  </thead>\n",
       "  <tbody>\n",
       "    <tr>\n",
       "      <th>0</th>\n",
       "      <td>1</td>\n",
       "      <td>0</td>\n",
       "      <td>0</td>\n",
       "      <td>0</td>\n",
       "      <td>0</td>\n",
       "      <td>0</td>\n",
       "    </tr>\n",
       "    <tr>\n",
       "      <th>1</th>\n",
       "      <td>1</td>\n",
       "      <td>1</td>\n",
       "      <td>1</td>\n",
       "      <td>0</td>\n",
       "      <td>0</td>\n",
       "      <td>0</td>\n",
       "    </tr>\n",
       "    <tr>\n",
       "      <th>2</th>\n",
       "      <td>1</td>\n",
       "      <td>2</td>\n",
       "      <td>0</td>\n",
       "      <td>0</td>\n",
       "      <td>0</td>\n",
       "      <td>0</td>\n",
       "    </tr>\n",
       "    <tr>\n",
       "      <th>3</th>\n",
       "      <td>1</td>\n",
       "      <td>3</td>\n",
       "      <td>1</td>\n",
       "      <td>0</td>\n",
       "      <td>0</td>\n",
       "      <td>0</td>\n",
       "    </tr>\n",
       "    <tr>\n",
       "      <th>4</th>\n",
       "      <td>1</td>\n",
       "      <td>4</td>\n",
       "      <td>0</td>\n",
       "      <td>0</td>\n",
       "      <td>0</td>\n",
       "      <td>0</td>\n",
       "    </tr>\n",
       "    <tr>\n",
       "      <th>...</th>\n",
       "      <td>...</td>\n",
       "      <td>...</td>\n",
       "      <td>...</td>\n",
       "      <td>...</td>\n",
       "      <td>...</td>\n",
       "      <td>...</td>\n",
       "    </tr>\n",
       "    <tr>\n",
       "      <th>19995</th>\n",
       "      <td>1000</td>\n",
       "      <td>15</td>\n",
       "      <td>0</td>\n",
       "      <td>4</td>\n",
       "      <td>0</td>\n",
       "      <td>4</td>\n",
       "    </tr>\n",
       "    <tr>\n",
       "      <th>19996</th>\n",
       "      <td>1000</td>\n",
       "      <td>16</td>\n",
       "      <td>0</td>\n",
       "      <td>4</td>\n",
       "      <td>0</td>\n",
       "      <td>4</td>\n",
       "    </tr>\n",
       "    <tr>\n",
       "      <th>19997</th>\n",
       "      <td>1000</td>\n",
       "      <td>17</td>\n",
       "      <td>0</td>\n",
       "      <td>4</td>\n",
       "      <td>0</td>\n",
       "      <td>4</td>\n",
       "    </tr>\n",
       "    <tr>\n",
       "      <th>19998</th>\n",
       "      <td>1000</td>\n",
       "      <td>18</td>\n",
       "      <td>0</td>\n",
       "      <td>4</td>\n",
       "      <td>1</td>\n",
       "      <td>4</td>\n",
       "    </tr>\n",
       "    <tr>\n",
       "      <th>19999</th>\n",
       "      <td>1000</td>\n",
       "      <td>19</td>\n",
       "      <td>0</td>\n",
       "      <td>4</td>\n",
       "      <td>0</td>\n",
       "      <td>4</td>\n",
       "    </tr>\n",
       "  </tbody>\n",
       "</table>\n",
       "<p>20000 rows × 6 columns</p>\n",
       "</div>"
      ],
      "text/plain": [
       "         id   t  d  x  dx1  x1\n",
       "0         1   0  0  0    0   0\n",
       "1         1   1  1  0    0   0\n",
       "2         1   2  0  0    0   0\n",
       "3         1   3  1  0    0   0\n",
       "4         1   4  0  0    0   0\n",
       "...     ...  .. .. ..  ...  ..\n",
       "19995  1000  15  0  4    0   4\n",
       "19996  1000  16  0  4    0   4\n",
       "19997  1000  17  0  4    0   4\n",
       "19998  1000  18  0  4    1   4\n",
       "19999  1000  19  0  4    0   4\n",
       "\n",
       "[20000 rows x 6 columns]"
      ]
     },
     "execution_count": 241,
     "metadata": {},
     "output_type": "execute_result"
    }
   ],
   "source": [
    "data = model.sim_data(pnc1)\n",
    "data"
   ]
  },
  {
   "cell_type": "code",
   "execution_count": 217,
   "metadata": {},
   "outputs": [
    {
     "data": {
      "text/plain": [
       "1.225437838378529"
      ]
     },
     "execution_count": 217,
     "metadata": {},
     "output_type": "execute_result"
    }
   ],
   "source": [
    "theta = (0.23, -0.15, -0.22)\n",
    "pnames= (\"eta2\", \"eta3\", 'mu')\n",
    "\n",
    "estimate.ll(theta, model, solver, data, pnames, out=1)"
   ]
  },
  {
   "cell_type": "code",
   "execution_count": 218,
   "metadata": {},
   "outputs": [],
   "source": [
    "dta = model.read_data()"
   ]
  },
  {
   "cell_type": "code",
   "execution_count": 219,
   "metadata": {},
   "outputs": [
    {
     "data": {
      "text/plain": [
       "0.8538839754309433"
      ]
     },
     "execution_count": 219,
     "metadata": {},
     "output_type": "execute_result"
    }
   ],
   "source": [
    "theta = (0.23, -0.15, -0.22)\n",
    "pnames= (\"eta2\", \"eta3\", 'mu')\n",
    "\n",
    "estimate.ll(theta, model, solver, dta, pnames, out=1)"
   ]
  },
  {
   "cell_type": "code",
   "execution_count": 243,
   "metadata": {},
   "outputs": [
    {
     "name": "stderr",
     "output_type": "stream",
     "text": [
      "/Users/carolinebergholdthansen/Desktop/Dynamic programming/dynamic_cbjk/BI_estimate.py:68: RuntimeWarning: divide by zero encountered in log\n",
      "  log_lik = np.log(function)                   # Compute log-likelihood-contributions\n",
      "/Users/carolinebergholdthansen/opt/anaconda3/lib/python3.9/site-packages/scipy/optimize/_optimize.py:790: RuntimeWarning: invalid value encountered in subtract\n",
      "  np.max(np.abs(fsim[0] - fsim[1:])) <= fatol):\n"
     ]
    },
    {
     "name": "stdout",
     "output_type": "stream",
     "text": [
      "Log-Likelihood:     -inf\n",
      "mu:                 0.0000\n",
      "<contracept_model.child_model object at 0x7fe432d7cd60>  final_simplex: (array([[0.00000000e+00],\n",
      "       [3.38813179e-24]]), array([inf, inf]))\n",
      "           fun: inf\n",
      "       message: 'Maximum number of function evaluations has been exceeded.'\n",
      "          nfev: 200\n",
      "           nit: 67\n",
      "        status: 1\n",
      "       success: False\n",
      "             x: array([0.]) ['mu'] [0.] False\n",
      "The model converged: False\n"
     ]
    }
   ],
   "source": [
    "model = child_model()\n",
    "# Estimate\n",
    "model, results, pnames, theta_hat, converged = estimate.estimate(model, solver, data)\n",
    "\n",
    "# Print \n",
    "print(f'Log-Likelihood:     {-results.fun*1000:.4f}')\n",
    "print(f'mu:                 {theta_hat[0]:.4f}')\n",
    "#print(f'eta2:               {theta_hat[1]:.4f}')\n",
    "#print(f'eta3:               {theta_hat[2]:.4f}')\n",
    "\n",
    "\n",
    "print(model, results, pnames, theta_hat, converged)\n",
    "print(f'The model converged: {converged}')\n"
   ]
  },
  {
   "cell_type": "code",
   "execution_count": null,
   "metadata": {},
   "outputs": [],
   "source": []
  }
 ],
 "metadata": {
  "kernelspec": {
   "display_name": "base",
   "language": "python",
   "name": "python3"
  },
  "language_info": {
   "codemirror_mode": {
    "name": "ipython",
    "version": 3
   },
   "file_extension": ".py",
   "mimetype": "text/x-python",
   "name": "python",
   "nbconvert_exporter": "python",
   "pygments_lexer": "ipython3",
   "version": "3.9.13"
  },
  "orig_nbformat": 4,
  "vscode": {
   "interpreter": {
    "hash": "32077810f91c82a01173fac87666ad4b066461331ac0e11d6466db2e366e3ab6"
   }
  }
 },
 "nbformat": 4,
 "nbformat_minor": 2
}
