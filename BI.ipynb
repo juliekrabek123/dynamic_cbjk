{
 "cells": [
  {
   "cell_type": "code",
   "execution_count": 109,
   "metadata": {},
   "outputs": [
    {
     "name": "stdout",
     "output_type": "stream",
     "text": [
      "The autoreload extension is already loaded. To reload it, use:\n",
      "  %reload_ext autoreload\n"
     ]
    }
   ],
   "source": [
    "# a. set magic \n",
    "%load_ext autoreload\n",
    "%autoreload 2\n",
    "\n",
    "# b. load packages \n",
    "import numpy as np\n",
    "\n",
    "# c. local modules\n",
    "from contracept_model import child_model"
   ]
  },
  {
   "cell_type": "code",
   "execution_count": 153,
   "metadata": {},
   "outputs": [],
   "source": [
    "model = child_model()\n"
   ]
  },
  {
   "cell_type": "code",
   "execution_count": 144,
   "metadata": {},
   "outputs": [
    {
     "name": "stdout",
     "output_type": "stream",
     "text": [
      "[[0.521 0.524 0.528 0.532 0.536 0.54  0.544 0.548 0.552 0.556 0.559 0.562\n",
      "  0.563 0.564 0.563 0.561 0.556 0.55  0.541 1.   ]\n",
      " [0.454 0.456 0.459 0.462 0.466 0.47  0.474 0.479 0.485 0.49  0.496 0.502\n",
      "  0.509 0.515 0.521 0.526 0.529 0.532 0.532 1.   ]\n",
      " [0.429 0.43  0.431 0.433 0.435 0.437 0.44  0.443 0.447 0.451 0.456 0.462\n",
      "  0.469 0.476 0.485 0.494 0.504 0.514 0.523 1.   ]\n",
      " [0.456 0.456 0.457 0.457 0.457 0.458 0.459 0.46  0.461 0.462 0.464 0.466\n",
      "  0.469 0.473 0.477 0.483 0.491 0.501 0.514 1.   ]\n",
      " [0.53  0.53  0.53  0.53  0.53  0.53  0.53  0.53  0.53  0.53  0.53  0.53\n",
      "  0.53  0.53  0.53  0.53  0.53  0.53  0.53  1.   ]]\n",
      "[[11.77 11.27 10.76 10.23  9.69  9.13  8.56  7.97  7.36  6.74  6.1   5.44\n",
      "   4.78  4.1   3.41  2.72  2.03  1.34  0.66  0.  ]\n",
      " [11.64 11.17 10.7  10.21  9.71  9.19  8.66  8.12  7.56  6.98  6.38  5.76\n",
      "   5.13  4.47  3.79  3.08  2.36  1.63  0.88  0.12]\n",
      " [10.78 10.34  9.89  9.43  8.97  8.49  8.01  7.51  7.    6.48  5.95  5.4\n",
      "   4.83  4.23  3.62  2.98  2.32  1.62  0.89  0.14]\n",
      " [ 9.66  9.23  8.79  8.35  7.9   7.45  6.99  6.53  6.05  5.57  5.09  4.59\n",
      "   4.08  3.57  3.04  2.49  1.92  1.33  0.71  0.06]\n",
      " [ 8.85  8.42  7.99  7.55  7.1   6.66  6.2   5.75  5.28  4.82  4.34  3.87\n",
      "   3.39  2.9   2.41  1.91  1.41  0.91  0.4  -0.12]]\n"
     ]
    }
   ],
   "source": [
    "# Reset the model parameters \n",
    "model.mu = -0.12\n",
    "model.eta2 = .17\n",
    "model.eta3 = -.05\n",
    "\n",
    "model.beta = 0.99\n",
    "\n",
    "# Step 2: Initialize value function and policy\n",
    "n = model.n\n",
    "T = model.T\n",
    "V = np.nan + np.zeros([n, T])\n",
    "V[:, T - 1] = life(N,model)\n",
    "pnc1 =  np.nan + np.zeros([n, T])\n",
    "pnc1[:, T-1] = 1\n",
    "\n",
    "# Step 3: Backward induction\n",
    "for t in range(T - 2, -1, -1):\n",
    "    ev1, pnc = model.bellman(ev0 = V[:, t+1], output=2)\n",
    "    V[:, t] = ev1  \n",
    "    pnc1[:, t] = pnc\n",
    "\n",
    "\n",
    "print(pnc1.round(3))\n",
    "print(V.round(2))\n",
    "\n",
    "\n"
   ]
  },
  {
   "cell_type": "code",
   "execution_count": 134,
   "metadata": {},
   "outputs": [
    {
     "name": "stdout",
     "output_type": "stream",
     "text": [
      "[11.17665739 10.8028851   9.71888582  8.42876788  7.54257911]\n"
     ]
    },
    {
     "data": {
      "text/plain": [
       "(array([11.17665739, 10.8028851 ,  9.71888582,  8.42876788,  7.54257911]),\n",
       " array([0.49764955, 0.43210288, 0.41218683, 0.44742481, 0.52996405]),\n",
       " array([10.47879823,  9.96379353,  8.83260725,  7.62452111,  6.90763301]),\n",
       " array([10.48820009, 10.23707009,  9.1875397 ,  7.83560211,  6.78763301]))"
      ]
     },
     "execution_count": 134,
     "metadata": {},
     "output_type": "execute_result"
    }
   ],
   "source": [
    "model.bellman(ev0 = V[:, t+1], output=4)\n",
    "\n"
   ]
  },
  {
   "cell_type": "code",
   "execution_count": 139,
   "metadata": {},
   "outputs": [
    {
     "data": {
      "text/plain": [
       "0.0"
      ]
     },
     "execution_count": 139,
     "metadata": {},
     "output_type": "execute_result"
    }
   ],
   "source": [
    "np.log(np.exp(10.48820009-10.48820009))"
   ]
  },
  {
   "cell_type": "code",
   "execution_count": 141,
   "metadata": {},
   "outputs": [
    {
     "data": {
      "text/plain": [
       "-0.009401859999998746"
      ]
     },
     "execution_count": 141,
     "metadata": {},
     "output_type": "execute_result"
    }
   ],
   "source": [
    "np.log(np.exp(10.47879823-10.48820009))"
   ]
  },
  {
   "cell_type": "code",
   "execution_count": 154,
   "metadata": {},
   "outputs": [
    {
     "ename": "TypeError",
     "evalue": "unsupported operand type(s) for -: 'int' and 'tuple'",
     "output_type": "error",
     "traceback": [
      "\u001b[0;31m---------------------------------------------------------------------------\u001b[0m",
      "\u001b[0;31mTypeError\u001b[0m                                 Traceback (most recent call last)",
      "\u001b[0;32m/var/folders/cf/0fy4v8b50jx90wrzrk8mmmqm0000gn/T/ipykernel_54161/2850805347.py\u001b[0m in \u001b[0;36m<module>\u001b[0;34m\u001b[0m\n\u001b[0;32m----> 1\u001b[0;31m \u001b[0mmodel\u001b[0m\u001b[0;34m.\u001b[0m\u001b[0msim_data\u001b[0m\u001b[0;34m(\u001b[0m\u001b[0;34m[\u001b[0m\u001b[0;34m(\u001b[0m\u001b[0;36m0.5\u001b[0m\u001b[0;34m,\u001b[0m \u001b[0;36m0.5\u001b[0m\u001b[0;34m,\u001b[0m \u001b[0;36m0.5\u001b[0m\u001b[0;34m,\u001b[0m\u001b[0;36m0.5\u001b[0m\u001b[0;34m,\u001b[0m\u001b[0;36m0\u001b[0m\u001b[0;34m,\u001b[0m\u001b[0;36m5\u001b[0m\u001b[0;34m)\u001b[0m\u001b[0;34m]\u001b[0m\u001b[0;34m)\u001b[0m\u001b[0;34m\u001b[0m\u001b[0;34m\u001b[0m\u001b[0m\n\u001b[0m",
      "\u001b[0;32m~/Desktop/Dynamic programming/dynamic_cbjk/contracept_model.py\u001b[0m in \u001b[0;36msim_data\u001b[0;34m(self, pnc)\u001b[0m\n\u001b[1;32m    174\u001b[0m         \u001b[0;32mfor\u001b[0m \u001b[0mt\u001b[0m \u001b[0;32min\u001b[0m \u001b[0mrange\u001b[0m\u001b[0;34m(\u001b[0m\u001b[0mT\u001b[0m\u001b[0;34m)\u001b[0m\u001b[0;34m:\u001b[0m\u001b[0;34m\u001b[0m\u001b[0;34m\u001b[0m\u001b[0m\n\u001b[1;32m    175\u001b[0m             \u001b[0;32mfor\u001b[0m \u001b[0mi\u001b[0m \u001b[0;32min\u001b[0m \u001b[0mrange\u001b[0m\u001b[0;34m(\u001b[0m\u001b[0mN\u001b[0m\u001b[0;34m)\u001b[0m\u001b[0;34m:\u001b[0m\u001b[0;34m\u001b[0m\u001b[0;34m\u001b[0m\u001b[0m\n\u001b[0;32m--> 176\u001b[0;31m                 \u001b[0md\u001b[0m\u001b[0;34m[\u001b[0m\u001b[0mt\u001b[0m\u001b[0;34m,\u001b[0m\u001b[0mi\u001b[0m\u001b[0;34m]\u001b[0m \u001b[0;34m=\u001b[0m \u001b[0mu_d\u001b[0m\u001b[0;34m[\u001b[0m\u001b[0mt\u001b[0m\u001b[0;34m,\u001b[0m\u001b[0mi\u001b[0m\u001b[0;34m]\u001b[0m \u001b[0;34m<\u001b[0m \u001b[0;36m1\u001b[0m\u001b[0;34m-\u001b[0m\u001b[0mpnc\u001b[0m\u001b[0;34m[\u001b[0m\u001b[0mx\u001b[0m\u001b[0;34m[\u001b[0m\u001b[0mt\u001b[0m\u001b[0;34m,\u001b[0m\u001b[0mi\u001b[0m\u001b[0;34m]\u001b[0m\u001b[0;34m]\u001b[0m   \u001b[0;31m# Contracept = 1 , not contracept = 0 for t in range(T*N):\u001b[0m\u001b[0;34m\u001b[0m\u001b[0;34m\u001b[0m\u001b[0m\n\u001b[0m\u001b[1;32m    177\u001b[0m                 \u001b[0;32mif\u001b[0m \u001b[0md\u001b[0m\u001b[0;34m[\u001b[0m\u001b[0mt\u001b[0m\u001b[0;34m,\u001b[0m\u001b[0mi\u001b[0m\u001b[0;34m]\u001b[0m \u001b[0;34m==\u001b[0m \u001b[0;36m0\u001b[0m\u001b[0;34m:\u001b[0m\u001b[0;34m\u001b[0m\u001b[0;34m\u001b[0m\u001b[0m\n\u001b[1;32m    178\u001b[0m                 \u001b[0;31m# Find states and choices\u001b[0m\u001b[0;34m\u001b[0m\u001b[0;34m\u001b[0m\u001b[0m\n",
      "\u001b[0;31mTypeError\u001b[0m: unsupported operand type(s) for -: 'int' and 'tuple'"
     ]
    }
   ],
   "source": [
    "model.sim_data([(0.5, 0.5, 0.5,0.5,0,5)])"
   ]
  },
  {
   "cell_type": "code",
   "execution_count": null,
   "metadata": {},
   "outputs": [],
   "source": []
  },
  {
   "cell_type": "code",
   "execution_count": null,
   "metadata": {},
   "outputs": [],
   "source": []
  },
  {
   "cell_type": "code",
   "execution_count": 119,
   "metadata": {},
   "outputs": [],
   "source": [
    "model = child_model()"
   ]
  },
  {
   "cell_type": "code",
   "execution_count": 120,
   "metadata": {},
   "outputs": [
    {
     "name": "stdout",
     "output_type": "stream",
     "text": [
      "[0.6349461 0.7549461 0.7749461 0.6949461 0.5149461]\n"
     ]
    },
    {
     "data": {
      "text/plain": [
       "(array([0.6349461, 0.7549461, 0.7749461, 0.6949461, 0.5149461]),\n",
       " array([0.52996405, 0.52996405, 0.52996405, 0.52996405, 0.52996405]),\n",
       " array([ 0.  ,  0.12,  0.14,  0.06, -0.12]),\n",
       " array([-1.20000000e-01,  1.38777878e-17,  2.00000000e-02, -6.00000000e-02,\n",
       "        -2.40000000e-01]))"
      ]
     },
     "execution_count": 120,
     "metadata": {},
     "output_type": "execute_result"
    }
   ],
   "source": [
    "model.bellman(ev0 = , output=4)"
   ]
  },
  {
   "cell_type": "code",
   "execution_count": 131,
   "metadata": {},
   "outputs": [
    {
     "name": "stdout",
     "output_type": "stream",
     "text": [
      "[ 0.0470448  0.2454528  0.2458508  0.0482388 -0.237612 ]\n",
      "[-0.11647164  0.11820006  0.15486176 -0.00648654 -0.357612  ]\n"
     ]
    }
   ],
   "source": [
    "print(model.cost + model.beta * model.P1 @ ev0)\n",
    "print(model.mu + model.cost + model.beta * model.P2 @ ev0)"
   ]
  },
  {
   "cell_type": "code",
   "execution_count": null,
   "metadata": {},
   "outputs": [],
   "source": []
  }
 ],
 "metadata": {
  "kernelspec": {
   "display_name": "base",
   "language": "python",
   "name": "python3"
  },
  "language_info": {
   "codemirror_mode": {
    "name": "ipython",
    "version": 3
   },
   "file_extension": ".py",
   "mimetype": "text/x-python",
   "name": "python",
   "nbconvert_exporter": "python",
   "pygments_lexer": "ipython3",
   "version": "3.9.13"
  },
  "orig_nbformat": 4,
  "vscode": {
   "interpreter": {
    "hash": "32077810f91c82a01173fac87666ad4b066461331ac0e11d6466db2e366e3ab6"
   }
  }
 },
 "nbformat": 4,
 "nbformat_minor": 2
}
