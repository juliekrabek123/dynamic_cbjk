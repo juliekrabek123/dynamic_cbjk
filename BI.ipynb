{
 "cells": [
  {
   "cell_type": "code",
   "execution_count": 2,
   "metadata": {},
   "outputs": [],
   "source": [
    "# a. set magic \n",
    "%load_ext autoreload\n",
    "%autoreload 2\n",
    "\n",
    "# b. load packages \n",
    "import numpy as np\n",
    "import matplotlib.pyplot as plt\n",
    "plt.style.use('seaborn-whitegrid')\n",
    "import autograd.numpy as np\n",
    "\n",
    "\n",
    "from autograd import grad, hessian\n",
    "import copy\n",
    "\n",
    "# c. local modules\n",
    "from contracept_model_copy import child_model_new\n",
    "from contracept_model import child_model \n",
    "\n",
    "\n",
    "from contracept_model_3 import child_model3 \n",
    "import BI_estimate as estimate\n",
    "import back as solver"
   ]
  },
  {
   "cell_type": "code",
   "execution_count": 3,
   "metadata": {},
   "outputs": [],
   "source": [
    "model3 = child_model3()\n",
    "model = child_model()\n"
   ]
  },
  {
   "cell_type": "code",
   "execution_count": null,
   "metadata": {},
   "outputs": [],
   "source": [
    "model3.grid"
   ]
  },
  {
   "cell_type": "code",
   "execution_count": 4,
   "metadata": {},
   "outputs": [
    {
     "data": {
      "text/plain": [
       "[<matplotlib.lines.Line2D at 0x7ff5b4e2af10>]"
      ]
     },
     "execution_count": 4,
     "metadata": {},
     "output_type": "execute_result"
    },
    {
     "data": {
      "image/png": "[encoded data removed]",
      "text/plain": [
       "<Figure size 640x480 with 1 Axes>"
      ]
     },
     "metadata": {},
     "output_type": "display_data"
    }
   ],
   "source": [
    "x= range(5)\n",
    "fx = model3.utility\n",
    "#x2 = model.cost0[5:10]\n",
    "\n",
    "plt.plot(x, fx)\n",
    "#plt.plot(x, fx2)\n",
    "#plt.axhline(y=0, color='r', linestyle='-')\n"
   ]
  },
  {
   "cell_type": "code",
   "execution_count": null,
   "metadata": {},
   "outputs": [],
   "source": [
    "dta3 = model3.read_data()"
   ]
  },
  {
   "cell_type": "code",
   "execution_count": 5,
   "metadata": {},
   "outputs": [],
   "source": [
    "solver.P_list(model3,dta3)\n",
    "V3, pnc3 = solver.BackwardsInduction3(model3)\n",
    "data3 = model3.sim_data(pnc3)\n",
    "\n",
    "\n",
    "\n"
   ]
  },
  {
   "cell_type": "code",
   "execution_count": 6,
   "metadata": {},
   "outputs": [
    {
     "data": {
      "text/plain": [
       "2    2175\n",
       "3     510\n",
       "1      58\n",
       "4       4\n",
       "0       1\n",
       "Name: x, dtype: int64"
      ]
     },
     "execution_count": 6,
     "metadata": {},
     "output_type": "execute_result"
    }
   ],
   "source": [
    "data0 = data3[(data3['t']==model.T-1)]\n",
    "data0.x.value_counts()"
   ]
  },
  {
   "cell_type": "code",
   "execution_count": 9,
   "metadata": {},
   "outputs": [],
   "source": [
    "samplesize = data3.shape[0]\n",
    "theta = (0.3, -0.1, -0.2 )\n",
    "theta0 = (0, 0, 0 )\n",
    "pnames= ( 'eta2', 'eta3', 'mu1' )\n",
    "\n"
   ]
  },
  {
   "attachments": {},
   "cell_type": "markdown",
   "metadata": {},
   "source": [
    "Simulated data"
   ]
  },
  {
   "cell_type": "code",
   "execution_count": null,
   "metadata": {},
   "outputs": [],
   "source": [
    "# 3 variables\n",
    "samplesize = data3.shape[0]\n",
    "par_mu1 = copy.copy(model3.mu1)\n",
    "par_eta2 = copy.copy(model3.eta2)\n",
    "par_eta3 = copy.copy(model3.eta3)\n",
    "\n",
    "I = 19\n",
    "\n",
    "\n",
    "log_lik = np.nan + np.zeros((I,I,I))\n",
    "mu1= np.linspace(-1.9,1.9,I)\n",
    "eta2= np.linspace(-1.9,1.9,I)\n",
    "eta3 = np.linspace(-1.9,1.9,I)\n",
    "#iter = 0\n",
    "\n",
    "for i in range(I):\n",
    "    for j in range(I):\n",
    "        for k in range(I):\n",
    "\n",
    "       \n",
    "                # Estimate parameters\n",
    "                pnames = ['eta2','eta3', 'mu1']\n",
    "                theta = np.array([eta2[i], eta3[j], mu1[k]])\n",
    "                log_lik[i,j,k]=estimate.ll3(theta,model3, solver, data3, pnames)\n",
    "                #print(iter)\n",
    "                #iter =iter+1\n",
    "\n",
    "log_lik *= samplesize*(-1)\n",
    "\n",
    "#Re-inset the true parameters \n",
    "model3.eta2 = copy.copy(par_eta2)\n",
    "model3.eta3 = copy.copy(par_eta3)\n",
    "model3.mu1 = copy.copy(par_mu1)\n",
    "\n",
    "\n",
    "x, y, z= np.unravel_index(np.argmax(log_lik), log_lik.shape)\n",
    "print(eta2[x], eta3[y], mu1[z])"
   ]
  },
  {
   "cell_type": "code",
   "execution_count": null,
   "metadata": {},
   "outputs": [],
   "source": [
    "# 4 variables \n",
    "samplesize = data3.shape[0]\n",
    "par_mu1 = copy.copy(model3.mu1)\n",
    "par_eta1 = copy.copy(model3.eta1)\n",
    "par_eta2 = copy.copy(model3.eta2)\n",
    "par_eta3 = copy.copy(model3.eta3)\n",
    "\n",
    "I = 19\n",
    "\n",
    "\n",
    "log_lik = np.nan + np.zeros((I,I,I,I))\n",
    "mu1= np.linspace(-0.9,0.9,I)\n",
    "eta1= np.linspace(-0.9,0.9,I)\n",
    "eta2= np.linspace(-0.9,0.9,I)\n",
    "eta3 = np.linspace(-0.9,0.9,I)\n",
    "#iter = 0\n",
    "\n",
    "for i in range(I):\n",
    "    for j in range(I):\n",
    "        for k in range(I):\n",
    "            for l in range(I):\n",
    "       \n",
    "                # Estimate parameters\n",
    "                pnames = ['eta2','eta3', 'mu1']\n",
    "                theta = np.array([eta2[l],eta2[i], eta3[j], mu1[k] ])\n",
    "                log_lik[l,i,j,k]=estimate.ll3(theta,model3, solver, data3, pnames)\n",
    "                #print(iter)\n",
    "                #iter =iter+1\n",
    "\n",
    "log_lik *= samplesize*(-1)\n",
    "\n",
    "#Re-inset the true parameters \n",
    "model3.eta1 = copy.copy(par_eta1)\n",
    "model3.eta2 = copy.copy(par_eta2)\n",
    "model3.eta3 = copy.copy(par_eta3)\n",
    "model3.mu1 = copy.copy(par_mu1)\n",
    "\n",
    "\n",
    "x, y, z, v = np.unravel_index(np.argmax(log_lik), log_lik.shape)\n",
    "print(eta1[x], eta2[y], eta3[z], mu1[v])"
   ]
  },
  {
   "attachments": {},
   "cell_type": "markdown",
   "metadata": {},
   "source": [
    "Real data"
   ]
  },
  {
   "cell_type": "code",
   "execution_count": null,
   "metadata": {},
   "outputs": [],
   "source": [
    "model3 = child_model3()"
   ]
  },
  {
   "cell_type": "code",
   "execution_count": null,
   "metadata": {},
   "outputs": [],
   "source": [
    "dta3 = model3.read_data()\n",
    "solver.P_list(model3,dta3)"
   ]
  },
  {
   "cell_type": "code",
   "execution_count": null,
   "metadata": {},
   "outputs": [],
   "source": [
    "#loop der ikke gemmer - DEn bruger vi ikke umiddelbart\n",
    "samplesize = dta3.shape[0]\n",
    "par_mu1 = copy.copy(model3.mu1)\n",
    "par_eta2 = copy.copy(model3.eta2)\n",
    "par_eta3 = copy.copy(model3.eta3)\n",
    "\n",
    "I = 51\n",
    "\n",
    "\n",
    "log_lik = np.nan + np.zeros((I,I,I))\n",
    "mu1= np.linspace(-1,1,I)\n",
    "eta2= np.linspace(-1,1,I)\n",
    "eta3 = np.linspace(-1,1,I)\n",
    "result = -10000000000000\n",
    "eta2_true = 0\n",
    "eta3_true = 0\n",
    "mu1_true = 0\n",
    "\n",
    "for i in range(I):\n",
    "    for j in range(I):\n",
    "        for k in range(I):\n",
    "       \n",
    "            # Estimate parameters\n",
    "            pnames = ['eta2','eta3', 'mu1']\n",
    "            theta = np.array([eta2[i], eta3[j], mu1[k] ])\n",
    "            log_lik=(estimate.ll3(theta,model3, solver, dta3, pnames))*samplesize*(-1)\n",
    "            if log_lik > result:\n",
    "                result = log_lik\n",
    "                eta2_true = eta2[i]\n",
    "                eta3_true = eta2[j]\n",
    "                mu1_true = mu1[k]\n",
    "\n",
    "\n",
    "#Re-inset the true parameters \n",
    "model3.eta2 = copy.copy(par_eta2)\n",
    "model3.eta3 = copy.copy(par_eta3)\n",
    "model3.mu1 = copy.copy(par_mu1)\n",
    "\n",
    "\n",
    "\n",
    "print(log_lik, eta2_true, eta3_true, mu1_true)"
   ]
  },
  {
   "cell_type": "code",
   "execution_count": null,
   "metadata": {},
   "outputs": [],
   "source": [
    "samplesize = dta3.shape[0]\n",
    "par_mu1 = copy.copy(model3.mu1)\n",
    "par_eta2 = copy.copy(model3.eta2)\n",
    "par_eta3 = copy.copy(model3.eta3)\n",
    "\n",
    "I = 50\n",
    "\n",
    "\n",
    "log_lik = np.nan + np.zeros((I,I,I))\n",
    "mu1= np.linspace(0,1.8,I)\n",
    "eta2= np.linspace(0,1.8,I)\n",
    "eta3 = np.linspace(-0.9,0.9,I)\n",
    "iter = 0\n",
    "\n",
    "for i in range(I):\n",
    "    for j in range(I):\n",
    "        for k in range(I):\n",
    "\n",
    "       \n",
    "    \n",
    "                # Estimate parameters\n",
    "                pnames = ['eta2','eta3', 'mu1']\n",
    "                theta = np.array([eta2[i], eta3[j], mu1[k]])\n",
    "                log_lik[i,j,k]=estimate.ll3(theta,model3, solver, dta3, pnames)\n",
    "                print(iter)\n",
    "                iter =iter+1\n",
    "\n",
    "log_lik *= samplesize*(-1)\n",
    "\n",
    "#Re-inset the true parameters \n",
    "model3.eta2 = copy.copy(par_eta2)\n",
    "model3.eta3 = copy.copy(par_eta3)\n",
    "model3.mu1 = copy.copy(par_mu1)\n",
    "\n",
    "\n",
    "x, y, z= np.unravel_index(np.argmax(log_lik), log_lik.shape)\n",
    "print(eta2[x], eta3[y], mu1[z])"
   ]
  },
  {
   "cell_type": "code",
   "execution_count": null,
   "metadata": {},
   "outputs": [],
   "source": [
    "log_lik[x,y,z]\n"
   ]
  },
  {
   "attachments": {},
   "cell_type": "markdown",
   "metadata": {},
   "source": [
    "## Model with Religion"
   ]
  },
  {
   "attachments": {},
   "cell_type": "markdown",
   "metadata": {},
   "source": [
    "Sim data"
   ]
  },
  {
   "cell_type": "code",
   "execution_count": null,
   "metadata": {},
   "outputs": [],
   "source": [
    "model = child_model()\n",
    "V, pnc = solver.BackwardsInduction(model)\n",
    "data = model.sim_data(pnc)\n",
    "solver.P_list(model,data)\n",
    "\n",
    "print(pnc)\n",
    "        \n",
    "datad1 = data[(data['dx1']==1)]\n",
    "print(datad1.dx1.value_counts())\n",
    "\n",
    "\n"
   ]
  },
  {
   "cell_type": "code",
   "execution_count": null,
   "metadata": {},
   "outputs": [],
   "source": [
    "samplesize = data.shape[0]\n",
    "par_mu1 = copy.copy(model.mu1)\n",
    "par_mu2 = copy.copy(model.mu2)\n",
    "par_eta1 = copy.copy(model.eta1)\n",
    "par_eta2 = copy.copy(model.eta2)\n",
    "par_eta3 = copy.copy(model.eta3)\n",
    "\n",
    "I = 10\n",
    "\n",
    "\n",
    "log_lik = np.nan + np.zeros((I,I,I,I,I))\n",
    "mu1= np.linspace(0,0.9,I)\n",
    "mu2= np.linspace(-0.9,0,I)\n",
    "eta1= np.linspace(-0.4,0.5,I)\n",
    "eta2= np.linspace(0,0.9,I)\n",
    "eta3 = np.linspace(-0.4,0.5,I)\n",
    "iter = 0\n",
    "\n",
    "for i in range(I):\n",
    "    for j in range(I):\n",
    "        for k in range(I):\n",
    "            for l in range(I):\n",
    "                for m in range(I):\n",
    "       \n",
    "                    # Estimate parameters\n",
    "                    pnames = ['eta1','eta2','eta3', 'mu1', 'mu2']\n",
    "                    theta = np.array([eta1[m],eta2[i], eta3[j], mu1[k] , mu2[l]])\n",
    "                    log_lik[m,i,j,k,l]=estimate.ll(theta,model, solver,data, pnames)\n",
    "                    #print(log_lik[i,j,k],eta2[i], eta3[j], mu1[k])\n",
    "                    print(iter)\n",
    "                    iter =iter+1\n",
    "\n",
    "\n",
    "log_lik *= samplesize*(-1)\n",
    "\n",
    "#Re-inset the true parameters \n",
    "model.eta2 = copy.copy(par_eta2)\n",
    "model.eta3 = copy.copy(par_eta3)\n",
    "model.mu1 = copy.copy(par_mu1)\n",
    "model.mu2 = copy.copy(par_mu2)\n",
    "\n",
    "w, x, y, z, v = np.unravel_index(np.argmax(log_lik), log_lik.shape)\n",
    "print(log_lik[w,x,y,z,v], eta1[w], eta2[x], eta3[y], mu1[z], mu2[v])\n",
    "\n"
   ]
  },
  {
   "cell_type": "code",
   "execution_count": null,
   "metadata": {},
   "outputs": [],
   "source": [
    "log_lik[9,x,y,z,v]"
   ]
  },
  {
   "cell_type": "code",
   "execution_count": null,
   "metadata": {},
   "outputs": [],
   "source": [
    "samplesize = data.shape[0]\n",
    "theta = (0.3, -0.1, -0.2, -0.4 )\n",
    "#theta = (0, 0, 0 , 0)\n",
    "pnames= (\"eta2\", \"eta3\", 'mu1', 'mu2' )\n",
    "\n",
    "estimate.ll(theta, model, solver, data, pnames, out=1)*samplesize*(-1)\n"
   ]
  },
  {
   "cell_type": "code",
   "execution_count": null,
   "metadata": {},
   "outputs": [],
   "source": [
    "samplesize = data.shape[0]\n",
    "par_mu1 = copy.copy(model.mu1)\n",
    "par_mu2 = copy.copy(model.mu2)\n",
    "par_eta2 = copy.copy(model.eta2)\n",
    "par_eta3 = copy.copy(model.eta3)\n",
    "\n",
    "I = 21\n",
    "\n",
    "\n",
    "log_lik = np.nan + np.zeros((I,I,I,I))\n",
    "mu1= np.linspace(-1,1,I)\n",
    "mu2= np.linspace(-1,1,I)\n",
    "eta2= np.linspace(-1,1,I)\n",
    "eta3 = np.linspace(-1,1,I)\n",
    "result = -10000000000000\n",
    "eta2_true = 0\n",
    "eta3_true = 0\n",
    "mu1_true = 0\n",
    "mu2_true = 0\n",
    "\n",
    "for i in range(I):\n",
    "    for j in range(I):\n",
    "        for k in range(I):\n",
    "            for l in range(I):\n",
    "       \n",
    "                # Estimate parameters\n",
    "                pnames = ['eta2','eta3', 'mu1', 'mu2']\n",
    "                theta = np.array([eta2[i], eta3[j], mu1[k], mu2[l] ])\n",
    "                log_lik=(estimate.ll(theta,model, solver, data, pnames))*samplesize*(-1)\n",
    "                if log_lik > result:\n",
    "                    result = log_lik\n",
    "                    eta2_true = eta2[i]\n",
    "                    eta3_true = eta2[j]\n",
    "                    mu1_true = mu1[k]\n",
    "                    mu2_true = mu2[l]\n",
    "\n",
    "\n",
    "#Re-inset the true parameters \n",
    "model.eta2 = copy.copy(par_eta2)\n",
    "model.eta3 = copy.copy(par_eta3)\n",
    "model.mu1 = copy.copy(par_mu1)\n",
    "model.mu2 = copy.copy(par_mu2)\n",
    "\n",
    "\n",
    "\n",
    "print(log_lik, eta2_true, eta3_true, mu1_true, mu2_true)"
   ]
  },
  {
   "cell_type": "code",
   "execution_count": null,
   "metadata": {},
   "outputs": [],
   "source": [
    "#LL tjek\n",
    "pnames = ['mu1','eta3', 'mu1', 'mu2']\n",
    "theta = np.array([eta2[i], eta3[j], mu1[k] , mu2[l]])\n",
    "log_lik[i,j,k,l]=estimate.ll(theta,model, solver,data, pnames)\n"
   ]
  },
  {
   "attachments": {},
   "cell_type": "markdown",
   "metadata": {},
   "source": [
    "Real data"
   ]
  },
  {
   "cell_type": "code",
   "execution_count": null,
   "metadata": {},
   "outputs": [],
   "source": [
    "dta = model.read_data()\n",
    "solver.P_list(model,dta)"
   ]
  },
  {
   "cell_type": "code",
   "execution_count": null,
   "metadata": {},
   "outputs": [],
   "source": [
    "samplesize = dta.shape[0]\n",
    "par_mu1 = copy.copy(model.mu1)\n",
    "par_mu2 = copy.copy(model.mu2)\n",
    "par_eta2 = copy.copy(model.eta2)\n",
    "par_eta3 = copy.copy(model.eta3)\n",
    "\n",
    "I = 11\n",
    "\n",
    "\n",
    "log_lik = np.nan + np.zeros((I,I,I,I))\n",
    "mu1= np.linspace(-1,1,I)\n",
    "mu2= np.linspace(-1,1,I)\n",
    "eta2= np.linspace(-1,1,I)\n",
    "eta3 = np.linspace(-1,1,I)\n",
    "iter = 0\n",
    "\n",
    "for i in range(I):\n",
    "    for j in range(I):\n",
    "        for k in range(I):\n",
    "            for l in range(I):\n",
    "       \n",
    "                # Estimate parameters\n",
    "                pnames = ['eta2','eta3', 'mu1', 'mu2']\n",
    "                theta = np.array([eta2[i], eta3[j], mu1[k] , mu2[l]])\n",
    "                log_lik[i,j,k,l]=estimate.ll(theta,model, solver,dta, pnames)\n",
    "                #print(log_lik[i,j,k],eta2[i], eta3[j], mu1[k])\n",
    "                print(iter)\n",
    "                iter =iter+1\n",
    "\n",
    "\n",
    "log_lik *= samplesize*(-1)\n",
    "\n",
    "#Re-inset the true parameters \n",
    "model.eta2 = copy.copy(par_eta2)\n",
    "model.eta3 = copy.copy(par_eta3)\n",
    "model.mu1 = copy.copy(par_mu1)\n",
    "model.mu2 = copy.copy(par_mu2)\n",
    "\n",
    "x, y, z, v = np.unravel_index(np.argmax(log_lik), log_lik.shape)\n",
    "print(eta2[x], eta3[y], mu1[z], mu2[v])\n",
    "\n"
   ]
  },
  {
   "attachments": {},
   "cell_type": "markdown",
   "metadata": {},
   "source": [
    "## two parameters test"
   ]
  },
  {
   "cell_type": "code",
   "execution_count": null,
   "metadata": {},
   "outputs": [],
   "source": [
    "samplesize = data.shape[0]\n",
    "\n",
    "par_mu1 = copy.copy(model3.mu1)\n",
    "par_eta3 = copy.copy(model3.eta3)\n",
    "\n",
    "I = 51\n",
    "\n",
    "\n",
    "log_lik = np.nan + np.zeros((I,I))\n",
    "mu1= np.linspace(-1,1,I)\n",
    "eta3 = np.linspace(-1,1,I)\n",
    "\n",
    "for i in range(I):\n",
    "    for j in range(I):\n",
    "       \n",
    "            # Estimate parameters\n",
    "            pnames = ['mu1','eta3']\n",
    "            theta = np.array([mu1[i], eta3[j]])\n",
    "            log_lik[i,j]=estimate.ll(theta,model3, solver, data, pnames)\n",
    "\n",
    "\n",
    "log_lik *= samplesize*(-1)\n",
    "\n",
    "#Re-inset the true parameters \n",
    "model3.mu1 = copy.copy(par_mu1)\n",
    "model3.eta3 = copy.copy(par_eta3)\n",
    "\n",
    "\n",
    "\n",
    "x, y = np.unravel_index(np.argmax(log_lik), log_lik.shape)\n",
    "print(mu1[x], eta3[y])\n"
   ]
  },
  {
   "cell_type": "code",
   "execution_count": null,
   "metadata": {},
   "outputs": [],
   "source": [
    "# plot figure in three dimensions\n",
    "from mpl_toolkits.mplot3d import Axes3D\n",
    "from matplotlib import cm\n",
    "plt.style.use('seaborn-whitegrid')\n",
    "\n",
    "\n",
    "fig = plt.figure(figsize=(10,5))\n",
    "ax = fig.add_subplot(1,1,1,projection='3d', computed_zorder=False)\n",
    "\n",
    "# Make data.\n",
    "X, Y = np.meshgrid(mu1, eta3,indexing='ij')\n",
    "x, y = np.unravel_index(np.argmax(log_lik), log_lik.shape)\n",
    "\n",
    "# Plot the surface.\n",
    "surf = ax.plot_surface(X, Y, log_lik, cmap=cm.jet)\n",
    "\n",
    "#Plot max value\n",
    "max = ax.scatter(mu1[x], eta3[y], log_lik[x,y], color=['black'], marker='o', s=10)\n",
    "\n",
    "# Customize the axis.\n",
    "ax.set_xlabel(f'mu1')\n",
    "ax.set_ylabel(f'eta3')\n",
    "ax.set_title(f'Log-likelihood (2,3)')\n",
    "ax.invert_xaxis()\n",
    "\n",
    "# Add a color bar which maps values to colors.\n",
    "fig.colorbar(surf, shrink=0.5, aspect=5)\n",
    "\n",
    "plt.show()\n",
    "print(mu1[x], eta3[y])"
   ]
  }
 ],
 "metadata": {
  "kernelspec": {
   "display_name": "base",
   "language": "python",
   "name": "python3"
  },
  "language_info": {
   "codemirror_mode": {
    "name": "ipython",
    "version": 3
   },
   "file_extension": ".py",
   "mimetype": "text/x-python",
   "name": "python",
   "nbconvert_exporter": "python",
   "pygments_lexer": "ipython3",
   "version": "3.9.13"
  },
  "orig_nbformat": 4,
  "vscode": {
   "interpreter": {
    "hash": "32077810f91c82a01173fac87666ad4b066461331ac0e11d6466db2e366e3ab6"
   }
  }
 },
 "nbformat": 4,
 "nbformat_minor": 2
}
