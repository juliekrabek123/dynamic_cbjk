{
 "cells": [
  {
   "cell_type": "code",
   "execution_count": 58,
   "metadata": {},
   "outputs": [
    {
     "name": "stdout",
     "output_type": "stream",
     "text": [
      "The autoreload extension is already loaded. To reload it, use:\n",
      "  %reload_ext autoreload\n"
     ]
    }
   ],
   "source": [
    "# a. set magic \n",
    "%load_ext autoreload\n",
    "%autoreload 2\n",
    "\n",
    "# b. load packages \n",
    "import numpy as np\n",
    "\n",
    "# c. local modules\n",
    "from contracept_model import child_model"
   ]
  },
  {
   "cell_type": "code",
   "execution_count": 106,
   "metadata": {},
   "outputs": [],
   "source": [
    "model = child_model()"
   ]
  },
  {
   "cell_type": "code",
   "execution_count": 108,
   "metadata": {},
   "outputs": [
    {
     "name": "stdout",
     "output_type": "stream",
     "text": [
      "[[0.444 0.445 0.445 0.446 0.448 0.45  0.452 0.456 0.461 0.468 0.477 0.488\n",
      "  0.501 0.518 0.536 0.554 0.566 0.568 0.558 1.   ]\n",
      " [0.387 0.387 0.388 0.388 0.389 0.389 0.391 0.392 0.395 0.399 0.404 0.411\n",
      "  0.421 0.435 0.452 0.474 0.499 0.522 0.535 1.   ]\n",
      " [0.384 0.384 0.384 0.384 0.384 0.384 0.384 0.385 0.385 0.386 0.388 0.391\n",
      "  0.395 0.401 0.411 0.425 0.446 0.476 0.511 1.   ]\n",
      " [0.435 0.435 0.435 0.435 0.435 0.435 0.435 0.435 0.435 0.435 0.435 0.436\n",
      "  0.436 0.437 0.439 0.443 0.45  0.462 0.488 1.   ]\n",
      " [0.53  0.53  0.53  0.53  0.53  0.53  0.53  0.53  0.53  0.53  0.53  0.53\n",
      "  0.53  0.53  0.53  0.53  0.53  0.53  0.53  1.   ]]\n",
      "[[ 9.46  9.1   8.73  8.35  7.97  7.58  7.19  6.78  6.37  5.93  5.49  5.02\n",
      "   4.52  3.99  3.41  2.79  2.12  1.42  0.7   0.  ]\n",
      " [ 9.1   8.73  8.37  7.99  7.62  7.23  6.85  6.45  6.05  5.64  5.22  4.79\n",
      "   4.34  3.87  3.36  2.82  2.22  1.57  0.86  0.12]\n",
      " [ 8.49  8.13  7.76  7.39  7.01  6.63  6.25  5.86  5.47  5.07  4.67  4.26\n",
      "   3.84  3.4   2.96  2.49  1.99  1.44  0.83  0.14]\n",
      " [ 7.86  7.5   7.13  6.76  6.39  6.01  5.62  5.24  4.85  4.45  4.05  3.65\n",
      "   3.24  2.83  2.41  1.98  1.54  1.09  0.6   0.06]\n",
      " [ 7.46  7.1   6.73  6.36  5.98  5.61  5.22  4.84  4.45  4.05  3.65  3.25\n",
      "   2.84  2.43  2.02  1.6   1.18  0.75  0.32 -0.12]]\n"
     ]
    }
   ],
   "source": [
    "# Reset the modelameters \n",
    "model.mu = -0.12\n",
    "model.eta2 = 0.17\n",
    "model.eta3 = -0.05\n",
    "\n",
    "model.beta = 0.99\n",
    "\n",
    "# Step 2: Initialize value function and policy\n",
    "n = model.n\n",
    "T = model.T\n",
    "V = np.nan + np.zeros([n, T])\n",
    "V[:, T - 1] = life(N,model)\n",
    "pnc1 =  np.nan + np.zeros([n, T])\n",
    "pnc1[:, T-1] = 1\n",
    "\n",
    "# Step 3: Backward induction\n",
    "for t in range(T - 2, -1, -1):\n",
    "    ev1, pcn = model.bellman(ev0 = V[:, t+1], output=2)\n",
    "    V[:, t] = ev1  \n",
    "    pnc1[:, t] = pnc\n",
    "\n",
    "\n",
    "print(pnc1.round(3))\n",
    "print(V.round(2))\n",
    "\n",
    "\n"
   ]
  }
 ],
 "metadata": {
  "kernelspec": {
   "display_name": "base",
   "language": "python",
   "name": "python3"
  },
  "language_info": {
   "codemirror_mode": {
    "name": "ipython",
    "version": 3
   },
   "file_extension": ".py",
   "mimetype": "text/x-python",
   "name": "python",
   "nbconvert_exporter": "python",
   "pygments_lexer": "ipython3",
   "version": "3.9.13"
  },
  "orig_nbformat": 4,
  "vscode": {
   "interpreter": {
    "hash": "32077810f91c82a01173fac87666ad4b066461331ac0e11d6466db2e366e3ab6"
   }
  }
 },
 "nbformat": 4,
 "nbformat_minor": 2
}
