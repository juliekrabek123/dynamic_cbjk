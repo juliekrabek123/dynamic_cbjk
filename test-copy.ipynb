{
 "cells": [
  {
   "cell_type": "code",
   "execution_count": 108,
   "metadata": {},
   "outputs": [
    {
     "name": "stdout",
     "output_type": "stream",
     "text": [
      "The autoreload extension is already loaded. To reload it, use:\n",
      "  %reload_ext autoreload\n"
     ]
    }
   ],
   "source": [
    "# magics: ensures that any changes to the modules loaded below will be re-loaded automatically\n",
    "%load_ext autoreload\n",
    "%autoreload 2\n",
    "\n",
    "import numpy as np \n",
    "import pandas as pd \n",
    "import matplotlib.pyplot as plt\n",
    "plt.style.use('seaborn-whitegrid')\n",
    "\n",
    "from mytest import model\n",
    "import NPL\n",
    "from Solve_NFXP import solve_NFXP\n",
    "from estimate_NFXP import estimate as NFXP_estimate"
   ]
  },
  {
   "cell_type": "code",
   "execution_count": 109,
   "metadata": {},
   "outputs": [],
   "source": [
    "model = model()"
   ]
  },
  {
   "cell_type": "code",
   "execution_count": 110,
   "metadata": {},
   "outputs": [
    {
     "data": {
      "image/png": "[encoded data removed]",
      "text/plain": [
       "<Figure size 1000x400 with 1 Axes>"
      ]
     },
     "metadata": {},
     "output_type": "display_data"
    },
    {
     "name": "stdout",
     "output_type": "stream",
     "text": [
      "[[0.99       0.99       0.99       0.99       0.99      ]\n",
      " [0.47003595 0.9630682  0.99753575 0.99955639 0.99967107]\n",
      " [0.47003595 0.95677059 0.99715166 0.9994908  0.9996227 ]\n",
      " [0.47003595 0.95674901 0.99714973 0.99949046 0.99962244]\n",
      " [0.47003595 0.95674901 0.99714973 0.99949046 0.99962244]\n",
      " [0.47003595 0.95674901 0.99714973 0.99949046 0.99962244]\n",
      " [0.47003595 0.95674901 0.99714973 0.99949046 0.99962244]\n",
      " [0.47003595 0.95674901 0.99714973 0.99949046 0.99962244]\n",
      " [0.47003595 0.95674901 0.99714973 0.99949046 0.99962244]\n",
      " [0.47003595 0.95674901 0.99714973 0.99949046 0.99962244]\n",
      " [0.47003595 0.95674901 0.99714973 0.99949046 0.99962244]\n",
      " [0.47003595 0.95674901 0.99714973 0.99949046 0.99962244]\n",
      " [0.47003595 0.95674901 0.99714973 0.99949046 0.99962244]\n",
      " [0.47003595 0.95674901 0.99714973 0.99949046 0.99962244]\n",
      " [0.47003595 0.95674901 0.99714973 0.99949046 0.99962244]\n",
      " [0.47003595 0.95674901 0.99714973 0.99949046 0.99962244]\n",
      " [0.47003595 0.95674901 0.99714973 0.99949046 0.99962244]\n",
      " [0.47003595 0.95674901 0.99714973 0.99949046 0.99962244]\n",
      " [0.47003595 0.95674901 0.99714973 0.99949046 0.99962244]\n",
      " [0.47003595 0.95674901 0.99714973 0.99949046 0.99962244]\n",
      " [0.47003595 0.95674901 0.99714973 0.99949046 0.99962244]\n",
      " [0.47003595 0.95674901 0.99714973 0.99949046 0.99962244]\n",
      " [0.47003595 0.95674901 0.99714973 0.99949046 0.99962244]\n",
      " [0.47003595 0.95674901 0.99714973 0.99949046 0.99962244]\n",
      " [0.47003595 0.95674901 0.99714973 0.99949046 0.99962244]]\n"
     ]
    }
   ],
   "source": [
    "# SOLVE THE MODEL\n",
    "pk_NPL = NPL.solve(model)\n",
    "\n",
    "fig = plt.figure(figsize=(10,4)) \n",
    "ax = fig.add_subplot(1,1,1)\n",
    "\n",
    "ax.set_title(f'Convergence of $\\Psi$')\n",
    "ax.set_xlabel('Children grid')\n",
    "ax.set_ylabel('no contraception probability')\n",
    "for i in range(4):\n",
    "    ax.plot(model.grid,1-pk_NPL[i+1,:],color = 'red')\n",
    "ax.plot(model.grid,1-pk_NPL[24,:],color = 'blue')\n",
    "plt.show()\n",
    "\n",
    "print(pk_NPL)"
   ]
  },
  {
   "cell_type": "code",
   "execution_count": 103,
   "metadata": {},
   "outputs": [],
   "source": [
    "pk=np.array([0.47003595, 0.4758418,  0.4734607,  0.46330023,0.44991005, 0.43853143])"
   ]
  },
  {
   "cell_type": "code",
   "execution_count": 111,
   "metadata": {},
   "outputs": [],
   "source": [
    "# Index \n",
    "T=25\n",
    "N=25\n",
    "idx = np.tile(np.arange(1,N+1),(T,1))  \n",
    "t = np.tile(np.arange(1,T+1),(N,1)).T\n",
    "            \n",
    "        # Draw random numbers\n",
    "        #u_init = np.random.randint(1,size=(1,N)) # initial condition\n",
    "u_dx = np.random.rand(T,N) # mileage\n",
    "u_d = np.random.rand(T,N) # choice\n",
    "            \n",
    "        # Find states and choices\n",
    "\n",
    "x = np.zeros((T,N),dtype=int)\n",
    "x1 =  np.zeros((T,N),dtype=int)\n",
    "d = np.nan + np.zeros((T,N))\n",
    "x[0,:] = np.zeros((1,N)) #u_init # initial condition\n",
    "for it in range(T):\n",
    "    d[it,:] = u_d[it,:]<pk[x[it,:]]  # no contraception = 1 , contracept = 0    \n",
    "    # x[it,:] = np.minimum(x[it,:] + dx1[it,:] , n-1) # State transition, minimum to avoid exceeding the maximum mileage\n",
    "    #   if it < T-1:\n",
    "    #       x[it+1,:] = x1[it,:]\n",
    "\n",
    "u_dxd = u_dx*d\n",
    "\n",
    "\n",
    "csum_p = np.cumsum(model.p)\n",
    "dx1 = 0\n",
    "for val in csum_p:\n",
    "    dx1 += u_dxd>val\n",
    "\n",
    "for it in range(T):\n",
    "    x1[it,:] = np.minimum((x[it,:] + dx1[it,:] ), model.n-1) # State transition, minimum to avoid exceeding the maximum mileage\n",
    "    if it < T-1:\n",
    "        x[it+1,:] = x1[it,:]\n",
    "            \n",
    "            \n",
    "        # reshape \n",
    "idx =  np.reshape(idx,T*N,order='F')\n",
    "t = np.reshape(t,T*N,order='F')\n",
    "d = np.reshape(d,T*N,order='F')\n",
    "x = np.reshape(x,T*N,order='F') + 1 # add 1 to make index start at 1 as in data - 1,2,...,n\n",
    "x1 = np.reshape(x1,T*N,order='F') + 1 # add 1 to make index start at 1 as in data - 1,2,...,n\n",
    "dx1 = np.reshape(dx1,T*N,order='F')\n",
    "\n",
    "\n",
    "data = {'id': idx,'t': t, 'd': d, 'x': x, 'x1': x1, 'dx1': dx1}\n",
    "df= pd.DataFrame(data)"
   ]
  },
  {
   "cell_type": "code",
   "execution_count": 112,
   "metadata": {},
   "outputs": [
    {
     "name": "stdout",
     "output_type": "stream",
     "text": [
      "Structual estimation using busdata from Rust(1987)\n",
      "Beta        = 0.9999\n",
      "n           = 5\n",
      "Sample size = 2500\n",
      "\n",
      " \n",
      "NPL \n",
      "--------------------------------\n",
      "Parameters     Estimates    s.e. \n",
      "mu             0.0000     \n",
      "eta              0.0000      \n",
      " \n",
      "Log-likelihood -1732.8680\n",
      "runtime (seconds) 0.0316\n"
     ]
    }
   ],
   "source": [
    " # ESTIMATE\n",
    "# setup\n",
    "Kmax=10  # Max number of outer loop iterations for NPL \n",
    "pnames = ['mu','eta']\n",
    "\n",
    "# Load data\n",
    "\n",
    "data = model.sim_data(50,50,pk)\n",
    "data_class = NPL.setup_data(data)\n",
    "samplesize = data_class.x.size\n",
    "\n",
    "#Estimate using NPL\n",
    "import time\n",
    "t0 = time.time()\n",
    "res, theta_hat,pk = NPL.estimate(model, data_class, Kmax)\n",
    "t1 = time.time()\n",
    "\n",
    "\n",
    "# Print the results\n",
    "print(f'Structual estimation using busdata from Rust(1987)')\n",
    "print(f'Beta        = {model.beta:.4f}')\n",
    "print(f'n           = {model.n}')\n",
    "print(f'Sample size = {samplesize}')\n",
    "\n",
    "print('\\n \\nNPL \\n--------------------------------')\n",
    "print(f'Parameters     Estimates    s.e. ') \n",
    "print(f'{pnames[0]}             {theta_hat[0]:.4f}     ')\n",
    "print(f'{pnames[1]}              {theta_hat[1]:.4f}      \\n ')\n",
    "\n",
    "\n",
    "print(f'Log-likelihood {-res.fun*samplesize:.4f}') \n",
    "print(f'runtime (seconds) {(t1-t0):.4f}')\n",
    "\n"
   ]
  },
  {
   "cell_type": "code",
   "execution_count": null,
   "metadata": {},
   "outputs": [],
   "source": []
  },
  {
   "cell_type": "code",
   "execution_count": null,
   "metadata": {},
   "outputs": [],
   "source": []
  },
  {
   "cell_type": "code",
   "execution_count": 88,
   "metadata": {},
   "outputs": [
    {
     "ename": "IndentationError",
     "evalue": "expected an indented block (2908551164.py, line 36)",
     "output_type": "error",
     "traceback": [
      "\u001b[0;36m  File \u001b[0;32m\"/var/folders/cf/0fy4v8b50jx90wrzrk8mmmqm0000gn/T/ipykernel_23391/2908551164.py\"\u001b[0;36m, line \u001b[0;32m36\u001b[0m\n\u001b[0;31m    \u001b[0m\n\u001b[0m    ^\u001b[0m\n\u001b[0;31mIndentationError\u001b[0m\u001b[0;31m:\u001b[0m expected an indented block\n"
     ]
    }
   ],
   "source": [
    "\n"
   ]
  },
  {
   "cell_type": "code",
   "execution_count": null,
   "metadata": {},
   "outputs": [],
   "source": []
  },
  {
   "cell_type": "code",
   "execution_count": null,
   "metadata": {},
   "outputs": [],
   "source": []
  },
  {
   "cell_type": "code",
   "execution_count": null,
   "metadata": {},
   "outputs": [],
   "source": []
  },
  {
   "cell_type": "code",
   "execution_count": null,
   "metadata": {},
   "outputs": [],
   "source": [
    "\n"
   ]
  },
  {
   "cell_type": "code",
   "execution_count": null,
   "metadata": {},
   "outputs": [],
   "source": []
  },
  {
   "cell_type": "code",
   "execution_count": 79,
   "metadata": {},
   "outputs": [
    {
     "name": "stdout",
     "output_type": "stream",
     "text": [
      "      id   t    d  x  dx1  x1\n",
      "0      1   1  1.0  1    1   2\n",
      "1      1   2  1.0  2    1   3\n",
      "2      1   3  0.0  3    0   3\n",
      "3      1   4  0.0  3    0   3\n",
      "4      1   5  1.0  3    0   3\n",
      "...   ..  ..  ... ..  ...  ..\n",
      "1245  50  21  1.0  2    1   3\n",
      "1246  50  22  0.0  3    0   3\n",
      "1247  50  23  0.0  3    0   3\n",
      "1248  50  24  0.0  3    0   3\n",
      "1249  50  25  0.0  3    0   3\n",
      "\n",
      "[1250 rows x 6 columns]\n"
     ]
    }
   ],
   "source": [
    "\n",
    "\n",
    "N = 50\n",
    "T = 25\n",
    "pk = np.array([0.2, 0.1, 0.05, 0, 0])# np.ones(5)*0.5 # choice probability\n",
    "n = 5\n",
    "p = np.array([0.5, 0.5]) # conditional choice probability\n",
    "np.random.seed(2020)\n",
    "  \n",
    "# Index \n",
    "idx = np.tile(np.arange(1,N+1),(T,1))  \n",
    "t = np.tile(np.arange(1,T+1),(N,1)).T\n",
    "        \n",
    "# Draw random numbers\n",
    "#u_init = np.random.randint(1,size=(1,N)) # initial condition\n",
    "u_dx = np.random.rand(T,N) # mileage\n",
    "u_d = np.random.rand(T,N) # choice\n",
    "        \n",
    "# Find states and choices\n",
    "\n",
    "x = np.zeros((T,N),dtype=int)\n",
    "x1 =  np.zeros((T,N),dtype=int)\n",
    "d = np.nan + np.zeros((T,N))\n",
    "x[0,:] = np.zeros((1,N)) #u_init # initial condition\n",
    "for it in range(T):\n",
    "    d[it,:] = u_d[it,:]<pk[x[it,:]]  # no contraception = 1 , contracept = 0    \n",
    "   # x[it,:] = np.minimum(x[it,:] + dx1[it,:] , n-1) # State transition, minimum to avoid exceeding the maximum mileage\n",
    " #   if it < T-1:\n",
    " #       x[it+1,:] = x1[it,:]\n",
    "\n",
    "u_dxd = u_dx*d\n",
    "\n",
    "\n",
    "csum_p = np.cumsum(p)\n",
    "dx1 = 0\n",
    "for val in csum_p:\n",
    "    dx1 += u_dxd>val\n",
    "\n",
    "for it in range(T):\n",
    "    x1[it,:] = np.minimum((x[it,:] + dx1[it,:] ), n-1) # State transition, minimum to avoid exceeding the maximum mileage\n",
    "    if it < T-1:\n",
    "         x[it+1,:] = x1[it,:]\n",
    "        \n",
    "\n",
    "        \n",
    "# reshape \n",
    "idx =  np.reshape(idx,T*N,order='F')\n",
    "t = np.reshape(t,T*N,order='F')\n",
    "d = np.reshape(d,T*N,order='F')\n",
    "x = np.reshape(x,T*N,order='F') + 1 # add 1 to make index start at 1 as in data - 1,2,...,n\n",
    "x1 = np.reshape(x1,T*N,order='F') + 1 # add 1 to make index start at 1 as in data - 1,2,...,n\n",
    "dx1 = np.reshape(dx1,T*N,order='F')\n",
    "\n",
    "\n",
    "data = {'id': idx,'t': t, 'd': d, 'x': x, 'dx1': dx1, 'x1': x1}\n",
    "df= pd.DataFrame(data) \n",
    "\n",
    "print(df)"
   ]
  },
  {
   "cell_type": "code",
   "execution_count": null,
   "metadata": {},
   "outputs": [],
   "source": []
  },
  {
   "cell_type": "code",
   "execution_count": 80,
   "metadata": {},
   "outputs": [],
   "source": [
    "dx1 = np.zeros((T,N))  # initialize dx1 as a zero array\n",
    "for i in range(T):  # loop through each row of u_dx\n",
    "    if d[i] == 0:  # check the value of d at the current row\n",
    "        for j, val in enumerate(csum_p):  # loop through the probabilities in csum_p\n",
    "            dx1[i] += u_dx[i] > val  # add 1 to dx1 where u_dx is greater than the current probability\n",
    "    else:\n",
    "        dx1[i] += 0  # if d is not zero, do not modify dx1"
   ]
  }
 ],
 "metadata": {
  "kernelspec": {
   "display_name": "base",
   "language": "python",
   "name": "python3"
  },
  "language_info": {
   "codemirror_mode": {
    "name": "ipython",
    "version": 3
   },
   "file_extension": ".py",
   "mimetype": "text/x-python",
   "name": "python",
   "nbconvert_exporter": "python",
   "pygments_lexer": "ipython3",
   "version": "3.9.13"
  },
  "orig_nbformat": 4,
  "vscode": {
   "interpreter": {
    "hash": "32077810f91c82a01173fac87666ad4b066461331ac0e11d6466db2e366e3ab6"
   }
  }
 },
 "nbformat": 4,
 "nbformat_minor": 2
}
