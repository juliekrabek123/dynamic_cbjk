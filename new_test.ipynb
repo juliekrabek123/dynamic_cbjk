{
 "cells": [
  {
   "cell_type": "code",
   "execution_count": 1,
   "metadata": {},
   "outputs": [],
   "source": [
    "# magics: ensures that any changes to the modules loaded below will be re-loaded automatically\n",
    "%load_ext autoreload\n",
    "%autoreload 2\n",
    "\n",
    "import numpy as np \n",
    "import pandas as pd \n",
    "import matplotlib.pyplot as plt\n",
    "plt.style.use('seaborn-whitegrid')\n",
    "import copy\n",
    "import scipy.optimize as optimize\n",
    "import time\n",
    "\n",
    "from newtest import child_model\n",
    "import NPL\n",
    "from Solve_test import solve_NFXP\n",
    "import estimate_test as estimate\n"
   ]
  },
  {
   "cell_type": "code",
   "execution_count": 7,
   "metadata": {},
   "outputs": [
    {
     "data": {
      "text/plain": [
       "-0.12"
      ]
     },
     "execution_count": 7,
     "metadata": {},
     "output_type": "execute_result"
    }
   ],
   "source": [
    "model = child_model()\n",
    "model.mu\n"
   ]
  },
  {
   "attachments": {},
   "cell_type": "markdown",
   "metadata": {},
   "source": [
    "Simulate data with solved model"
   ]
  },
  {
   "cell_type": "code",
   "execution_count": 8,
   "metadata": {},
   "outputs": [],
   "source": [
    "# Simulate the data\n",
    "# Set up\n",
    "\n",
    "solver = solve_NFXP()\n",
    "\n",
    "\n",
    "# update starting value: \n",
    "ev0 = np.zeros((model.n))\n",
    "ev,pk= solver.poly(model.bellman, ev0, beta = model.beta, output=2)\n",
    "\n",
    "# data\n",
    "data = model.sim_data(pk) \n",
    "samplesize = data.shape[0]"
   ]
  },
  {
   "cell_type": "code",
   "execution_count": null,
   "metadata": {},
   "outputs": [],
   "source": []
  },
  {
   "cell_type": "code",
   "execution_count": 9,
   "metadata": {},
   "outputs": [
    {
     "data": {
      "text/plain": [
       "0    14362\n",
       "1     5638\n",
       "Name: dx1, dtype: int64"
      ]
     },
     "execution_count": 9,
     "metadata": {},
     "output_type": "execute_result"
    }
   ],
   "source": [
    "tabulate = data.dx1.value_counts()\n",
    "tabulate\n",
    "#[tabulate[i]/sum(tabulate) for i in range(tabulate.size-1)]\n"
   ]
  },
  {
   "cell_type": "code",
   "execution_count": 5,
   "metadata": {},
   "outputs": [
    {
     "name": "stdout",
     "output_type": "stream",
     "text": [
      "Model grid:\n",
      " [0 1 2 3 4]\n",
      "Transition probabilities conditional on no contraception:\n",
      " [[0.3 0.7 0.  0.  0. ]\n",
      " [0.  0.3 0.7 0.  0. ]\n",
      " [0.  0.  0.3 0.7 0. ]\n",
      " [0.  0.  0.  0.3 0.7]\n",
      " [0.  0.  0.  0.  1. ]]\n",
      "Transition probabilities conditional on contraception:\n",
      " [[0.97 0.03 0.   0.   0.  ]\n",
      " [0.   0.97 0.03 0.   0.  ]\n",
      " [0.   0.   0.97 0.03 0.  ]\n",
      " [0.   0.   0.   0.97 0.03]\n",
      " [0.   0.   0.   0.   1.  ]]\n",
      "Bellman one run:\n",
      " [46.21744697 45.73002309 44.90373094 44.04893932 43.49461016]\n",
      "Bellman pk:\n",
      " [0.44934729 0.394585   0.39007826 0.438393   0.52996405]\n"
     ]
    }
   ],
   "source": [
    "print('Model grid:\\n',model.grid)\n",
    "print('Transition probabilities conditional on no contraception:\\n',model.P1)\n",
    "print('Transition probabilities conditional on contraception:\\n',model.P2)\n",
    "print('Bellman one run:\\n',ev)\n",
    "print('Bellman pk:\\n',pk)"
   ]
  },
  {
   "attachments": {},
   "cell_type": "markdown",
   "metadata": {},
   "source": [
    "Estimate parameters with log likelihood loop"
   ]
  },
  {
   "cell_type": "code",
   "execution_count": null,
   "metadata": {},
   "outputs": [],
   "source": [
    "# Find tha likelihood value for different combinations \n",
    "ev = np.zeros((model.n))\n",
    "par_mu = copy.copy(model.mu)\n",
    "par_eta2 = copy.copy(model.eta2)\n",
    "\n",
    "\n",
    "NRC = 200\n",
    "Nc = 200\n",
    "\n",
    "log_lik = np.nan + np.zeros((NRC,Nc))\n",
    "mu = np.linspace(-1,1,NRC)\n",
    "eta2 = np.linspace(-1,1,Nc)\n",
    "\n",
    "for i in range(NRC):\n",
    "    for j in range(Nc):\n",
    "       \n",
    "        # STEP 1: Find p\n",
    "        data0 = data[data['d'] == 0]\n",
    "        data1 = data[data['d'] == 1]\n",
    "    \n",
    "        tabulate0 = data0.dx1.value_counts()\n",
    "        tabulate1 = data1.dx1.value_counts()\n",
    "\n",
    "        p1 = [tabulate0[i]/sum(tabulate0) for i in range(tabulate0.size)]\n",
    "        p2 = [tabulate1[i]/sum(tabulate1) for i in range(tabulate1.size)] \n",
    "    \n",
    "        \n",
    "        \n",
    "        # STEP 2: Estimate structual parameters\n",
    "        model.p1 = p1 # Use first step estimates as starting values for t\n",
    "        model.p2 = p2\n",
    "        \n",
    "        # Estimate RC and C\n",
    "        pnames = ['mu','eta2']\n",
    "        theta = np.array([mu[i], eta2[j]])\n",
    "        log_lik[i,j]=estimate.ll(theta,model, solver,data, pnames, no_guess=True)\n",
    "\n",
    "log_lik *= samplesize*(-1)\n",
    "\n",
    "#Re-inset the true parameters \n",
    "model.mu = copy.copy(par_mu)\n",
    "model.eta2 = copy.copy(par_eta2)"
   ]
  },
  {
   "cell_type": "code",
   "execution_count": null,
   "metadata": {},
   "outputs": [],
   "source": [
    "# plot figure in three dimensions\n",
    "from mpl_toolkits.mplot3d import Axes3D\n",
    "from matplotlib import cm\n",
    "plt.style.use('seaborn-whitegrid')\n",
    "\n",
    "\n",
    "fig = plt.figure(figsize=(10,5))\n",
    "ax = fig.add_subplot(1,1,1,projection='3d', computed_zorder=False)\n",
    "\n",
    "# Make data.\n",
    "X, Y = np.meshgrid(mu, eta2,indexing='ij')\n",
    "x, y = np.unravel_index(np.argmax(log_lik), log_lik.shape)\n",
    "\n",
    "# Plot the surface.\n",
    "surf = ax.plot_surface(X, Y, log_lik, cmap=cm.jet)\n",
    "\n",
    "#Plot max value\n",
    "max = ax.scatter(mu[x], eta2[y], log_lik[x,y], color=['black'], marker='o', s=10)\n",
    "\n",
    "# Customize the axis.\n",
    "ax.set_xlabel(f'mu')\n",
    "ax.set_ylabel(f'eta2')\n",
    "ax.set_title(f'Log-likelihood (mu,eta2)')\n",
    "ax.invert_xaxis()\n",
    "\n",
    "# Add a color bar which maps values to colors.\n",
    "fig.colorbar(surf, shrink=0.5, aspect=5)\n",
    "\n",
    "plt.show()\n",
    "print(mu[x], eta2[y])\n"
   ]
  },
  {
   "attachments": {},
   "cell_type": "markdown",
   "metadata": {},
   "source": [
    "Use estimate function to estimate parameters"
   ]
  },
  {
   "cell_type": "code",
   "execution_count": 6,
   "metadata": {},
   "outputs": [
    {
     "name": "stdout",
     "output_type": "stream",
     "text": [
      "Structual estimation\n",
      "Beta        = 0.9900\n",
      "n           = 5\n",
      "Sample size = 20000\n",
      " \n",
      "\n",
      "Parameters     Estimates    s.e. \n",
      "mu              0.0947     0.0225 \n",
      "eta2              0.1260     0.0186 \n",
      "eta3              0.0443     0.0480  \n",
      " \n",
      "Log-likelihood -20645.41\n",
      "The model converged: True\n",
      "     fun: 1.0322706062581222\n",
      "    hess: array([[ 0.32100804,  0.97840856, -0.43257223],\n",
      "       [ 0.97840856,  4.87011834, -2.02005263],\n",
      "       [-0.43257223, -2.02005263,  0.8653635 ]])\n",
      "     jac: array([-2.45627589e-08,  6.54765318e-09, -2.02374687e-08])\n",
      " message: 'A bad approximation caused failure to predict improvement.'\n",
      "    nfev: 1216\n",
      "    nhev: 854\n",
      "     nit: 1214\n",
      "    njev: 854\n",
      "  status: 2\n",
      " success: False\n",
      "       x: array([0.09470205, 0.12596005, 0.04429866])\n"
     ]
    }
   ],
   "source": [
    "theta0 = [0.000001, 0.000001, 0.0000001]\n",
    "nfxp_model, nfxp_results, pnames, theta_hat, Avar, converged=estimate.estimate(model, solver,data)\n",
    "# Print the result\n",
    "print(f'Structual estimation')\n",
    "print(f'Beta        = {model.beta:.4f}')\n",
    "print(f'n           = {model.n}')\n",
    "print(f'Sample size = {samplesize}\\n \\n')\n",
    "\n",
    "print(f'Parameters     Estimates    s.e. ') \n",
    "print(f'{pnames[0]}              {theta_hat[0]:.4f}     {np.sqrt(Avar[0,0]):.4f} ')\n",
    "print(f'{pnames[1]}              {theta_hat[1]:.4f}     {np.sqrt(Avar[1,1]):.4f} ')\n",
    "print(f'{pnames[2]}              {theta_hat[2]:.4f}     {np.sqrt(Avar[2,2]):.4f}  \\n ')\n",
    "\n",
    "\n",
    "print(f'Log-likelihood {-nfxp_results.fun*samplesize:.2f}') \n",
    "print(f'The model converged: {converged}')\n",
    "\n",
    "print(nfxp_results)"
   ]
  },
  {
   "attachments": {},
   "cell_type": "markdown",
   "metadata": {},
   "source": [
    "Estimate parameters on real data"
   ]
  },
  {
   "cell_type": "code",
   "execution_count": null,
   "metadata": {},
   "outputs": [],
   "source": [
    "model=child_model()\n",
    "solver = solve_NFXP()"
   ]
  },
  {
   "cell_type": "code",
   "execution_count": null,
   "metadata": {},
   "outputs": [],
   "source": [
    "dta = model.read_data()\n",
    "samplesize = dta.shape[0]\n",
    "uncond_R_P = sum(dta.d)/samplesize\n",
    "\n",
    "# Estimate\n",
    "nfxp_model, optim_res, pnames, theta_hat, Avar, converged=estimate.estimate(model, solver,dta)"
   ]
  },
  {
   "cell_type": "code",
   "execution_count": null,
   "metadata": {},
   "outputs": [],
   "source": [
    "# Print the result\n",
    "print(f'Structual estimation')\n",
    "print(f'Beta        = {model.beta:.4f}')\n",
    "print(f'n           = {model.n}')\n",
    "print(f'Sample size = {samplesize}\\n \\n')\n",
    "\n",
    "print(f'Parameters     Estimates    s.e. ') \n",
    "print(f'{pnames[0]}              {theta_hat[0]:.4f}     {np.sqrt(Avar[0,0]):.4f} ')\n",
    "print(f'{pnames[1]}              {theta_hat[1]:.4f}     {np.sqrt(Avar[1,1]):.4f} ')\n",
    "print(f'{pnames[2]}              {theta_hat[2]:.4f}     {np.sqrt(Avar[2,2]):.4f}  \\n ')\n",
    "\n",
    "\n",
    "print(f'Log-likelihood {-optim_res.fun*samplesize:.2f}') \n",
    "print(f'The model converged: {converged}')\n",
    "optim_res\n",
    "print(optim_res)"
   ]
  },
  {
   "attachments": {},
   "cell_type": "markdown",
   "metadata": {},
   "source": [
    "Code for data processing"
   ]
  },
  {
   "cell_type": "code",
   "execution_count": null,
   "metadata": {},
   "outputs": [],
   "source": [
    "with open('carro-mira.csv', 'r') as file:\n",
    "    lines = file.readlines()\n",
    "\n",
    "# Remove the first character from each line\n",
    "modified_lines = [line[1:] for line in lines]\n",
    "\n",
    "# Open the output file in write mode\n",
    "with open('carro-mira.csv', 'w') as file:\n",
    "    file.writelines(modified_lines)"
   ]
  }
 ],
 "metadata": {
  "kernelspec": {
   "display_name": "base",
   "language": "python",
   "name": "python3"
  },
  "language_info": {
   "codemirror_mode": {
    "name": "ipython",
    "version": 3
   },
   "file_extension": ".py",
   "mimetype": "text/x-python",
   "name": "python",
   "nbconvert_exporter": "python",
   "pygments_lexer": "ipython3",
   "version": "3.9.13"
  },
  "orig_nbformat": 4,
  "vscode": {
   "interpreter": {
    "hash": "32077810f91c82a01173fac87666ad4b066461331ac0e11d6466db2e366e3ab6"
   }
  }
 },
 "nbformat": 4,
 "nbformat_minor": 2
}
