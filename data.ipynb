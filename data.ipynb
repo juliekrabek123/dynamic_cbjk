{
 "cells": [
  {
   "cell_type": "code",
   "execution_count": null,
   "metadata": {},
   "outputs": [],
   "source": [
    "# a. set magic \n",
    "%load_ext autoreload\n",
    "%autoreload 2\n",
    "\n",
    "# b. load packages \n",
    "import numpy as np\n",
    "\n",
    "# c. local modules\n",
    "from data import child_model"
   ]
  },
  {
   "cell_type": "code",
   "execution_count": null,
   "metadata": {},
   "outputs": [],
   "source": [
    "with open('carro-mira.csv', 'r') as file:\n",
    "    lines = file.readlines()\n",
    "\n",
    "# Remove the first character from each line\n",
    "modified_lines = [line[1:] for line in lines]\n",
    "\n",
    "# Open the output file in write mode\n",
    "with open('carro-mira.csv', 'w') as file:\n",
    "    file.writelines(modified_lines)\n",
    "\n",
    "\n"
   ]
  }
 ],
 "metadata": {
  "language_info": {
   "name": "python"
  },
  "orig_nbformat": 4
 },
 "nbformat": 4,
 "nbformat_minor": 2
}
