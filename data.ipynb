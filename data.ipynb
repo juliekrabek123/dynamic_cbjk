{
 "cells": [
  {
   "cell_type": "code",
   "execution_count": 161,
   "metadata": {},
   "outputs": [
    {
     "name": "stdout",
     "output_type": "stream",
     "text": [
      "The autoreload extension is already loaded. To reload it, use:\n",
      "  %reload_ext autoreload\n"
     ]
    }
   ],
   "source": [
    "# a. set magic \n",
    "%load_ext autoreload\n",
    "%autoreload 2\n",
    "\n",
    "# b. load packages \n",
    "import numpy as np\n",
    "import pandas as pd\n",
    "import matplotlib.pyplot as plt\n",
    "\n",
    "# c. local modules\n",
    "from data import child_model"
   ]
  },
  {
   "attachments": {},
   "cell_type": "markdown",
   "metadata": {},
   "source": [
    "# Read data"
   ]
  },
  {
   "cell_type": "code",
   "execution_count": 210,
   "metadata": {},
   "outputs": [],
   "source": [
    "# Read data \n",
    "with open('carro-mira_new.txt', 'r') as file:\n",
    "    # Read the content of the file\n",
    "    content = file.read()\n",
    "\n",
    "    # Remove spaces and replace with commas\n",
    "    content_without_spaces = ','.join(content.split())\n",
    "\n",
    "    # Create DataFrame with separated columns\n",
    "    num_columns = 25  # Specify the desired number of columns\n",
    "    data = np.array(content_without_spaces.split(','))\n",
    "    reshaped_data = np.reshape(data, (-1, num_columns))\n",
    "    df = pd.DataFrame(reshaped_data)"
   ]
  },
  {
   "cell_type": "code",
   "execution_count": 211,
   "metadata": {},
   "outputs": [],
   "source": [
    "edu_h = df.iloc[:, 0]          # education of husband\n",
    "edu_w = df.iloc[:, 1]          # education of wife\n",
    "age_w_m = df.iloc[:, 2]        # age of wife at the moment of marriage\n",
    "idx = df.iloc[:, 3]            # couple id\n",
    "t = df.iloc[:, 4]              # year\n",
    "age_w = df.iloc[:, 5]          # age of wife\n",
    "age_h = df.iloc[:, 6]          # age of husband\n",
    "c_birth_i = df.iloc[:, 7]      # current birth indicator\n",
    "n_birth_i = df.iloc[:, 8]      # next period birth indicator\n",
    "x = df.iloc[:, 9]              # number of children\n",
    "cc = df.iloc[:, 10]            # current contraception choice (1, 2, 3)\n",
    "p_birth_i = df.iloc[:, 11]     # previous birth indicator\n",
    "r = df.iloc[:, 12]             # religious couple indicator \n",
    "no_c = df.iloc[:, 13]          # no contraception (dummy)\n",
    "c = df.iloc[:, 14]             # contraception (dummy)\n",
    "s_c = df.iloc[:, 15]           # sterilization (dummy)\n",
    "p_c = df.iloc[:, 24]           # previous contraception choice"
   ]
  },
  {
   "cell_type": "code",
   "execution_count": 259,
   "metadata": {},
   "outputs": [],
   "source": [
    "data = {\n",
    "        'year': t,\n",
    "        'edu_h': edu_h,\n",
    "        'edu_w': edu_w,\n",
    "        'age_w_m': age_w_m,\n",
    "        'idx': idx,\n",
    "        'age_w': age_w,\n",
    "        'age_h': age_h,\n",
    "        'c_birth_i': c_birth_i,\n",
    "        'n_birth_i': n_birth_i,\n",
    "        'x': x,\n",
    "        'cc': cc,\n",
    "        'p_birth_i': p_birth_i,\n",
    "        'r': r,\n",
    "        'no_c': no_c,\n",
    "        'c': c,\n",
    "        's_c': s_c,\n",
    "        'p_c': p_c\n",
    "        }\n",
    "\n",
    "df_1 = pd.DataFrame(data) \n",
    "df_1 = df_1.astype(int)\n",
    "df_1 = df_1[df_1['cc'] != 3]\n",
    "# dropper åar, som kun optræder 1 gang \n",
    "df_1 = df_1.groupby('idx').filter(lambda x: len(x) > 1).reset_index(drop=True)"
   ]
  },
  {
   "attachments": {},
   "cell_type": "markdown",
   "metadata": {},
   "source": [
    "# Education destribution for wife and housband"
   ]
  },
  {
   "cell_type": "code",
   "execution_count": 213,
   "metadata": {},
   "outputs": [
    {
     "name": "stdout",
     "output_type": "stream",
     "text": [
      "Joint Distribution (edu_h x edu_w):\n",
      "edu_h     0     1      2      3     4     5     6     Sum\n",
      "edu_w                                                    \n",
      "0      1.35  0.31   3.41   0.23  0.00  0.12  0.00    5.41\n",
      "1      0.81  1.59  15.23   2.20  0.20  0.22  0.04   20.29\n",
      "2      1.24  5.09  31.07   9.53  1.37  2.37  0.15   50.82\n",
      "3      0.09  0.95   4.49   3.92  0.85  2.28  0.00   12.58\n",
      "4      0.04  0.18   1.24   1.18  1.36  2.04  0.07    6.10\n",
      "5      0.00  0.08   0.58   0.79  0.53  2.12  0.29    4.40\n",
      "6      0.00  0.00   0.00   0.10  0.05  0.17  0.08    0.40\n",
      "Sum    3.52  8.21  56.02  17.96  4.35  9.32  0.63  100.00\n"
     ]
    }
   ],
   "source": [
    "# Create a cross-tabulation (joint distribution) of edu_h and edu_w\n",
    "joint_distribution = pd.crosstab(df_1['edu_w'], df_1['edu_h'], normalize=True)*100\n",
    "\n",
    "# Add row and column sums to joint_distribution\n",
    "joint_distribution['Sum'] = joint_distribution.sum(axis=1)\n",
    "joint_distribution.loc['Sum'] = joint_distribution.sum()\n",
    "\n",
    "# Display the joint distribution with row and column sums\n",
    "print(\"Joint Distribution (edu_h x edu_w):\")\n",
    "print(joint_distribution.round(2))"
   ]
  },
  {
   "attachments": {},
   "cell_type": "markdown",
   "metadata": {},
   "source": [
    "## Table 3: Age, parity, birth rate and contraceptive use; time series of sample means"
   ]
  },
  {
   "cell_type": "code",
   "execution_count": 214,
   "metadata": {},
   "outputs": [
    {
     "name": "stdout",
     "output_type": "stream",
     "text": [
      "       Obs      Mean Age  Mean Parity  Birth Rate Contracept\n",
      "year                                                        \n",
      "83     325  24.85 (4.62)  1.19 (1.16)       0.662     53.54%\n",
      "84    1618  28.58 (5.11)  1.49 (1.05)       0.124     67.86%\n",
      "85    1788  28.96 (5.34)  1.52 (1.08)       0.130      69.3%\n",
      "86    1891  29.48 (5.46)  1.54 (1.07)       0.123     72.13%\n",
      "87    1997    30.0 (5.6)  1.55 (1.05)       0.105     72.26%\n",
      "88    2102  30.44 (5.82)  1.53 (1.05)       0.098     72.74%\n",
      "89    2209   30.9 (6.02)  1.53 (1.05)       0.102     73.11%\n",
      "90    2314  31.32 (6.21)  1.52 (1.03)       0.095     74.29%\n",
      "91    2329  31.66 (6.13)  1.51 (1.01)       0.082     74.97%\n",
      "92    2343  31.92 (5.99)  1.49 (0.99)       0.086     74.48%\n",
      "93    2338   32.3 (5.97)   1.5 (0.97)       0.098     76.26%\n"
     ]
    }
   ],
   "source": [
    "# Grouping the data by time (assuming you have a 'year' column)\n",
    "grouped_data = df_1.groupby(['year'])\n",
    "\n",
    "# Calculating the mean for age, parity, birth rate, and contraceptive use\n",
    "mean_age = grouped_data['age_w'].mean()\n",
    "mean_parity = grouped_data['x'].mean()\n",
    "mean_birth_rate = grouped_data['c_birth_i'].mean()\n",
    "mean_contraceptive_use = grouped_data['c'].mean()\n",
    "\n",
    "# Calculating the standard deviation for age, parity, birth rate, and contraceptive use\n",
    "std_age = grouped_data['age_w'].std()\n",
    "std_parity = grouped_data['x'].std()\n",
    "std_birth_rate = grouped_data['c_birth_i'].std()\n",
    "std_contraceptive_use = grouped_data['c'].std()\n",
    "\n",
    "# Calculating the count of observations for each year\n",
    "count_observations = grouped_data['year'].count()\n",
    "\n",
    "# Creating a DataFrame to store the time series of sample means and standard deviations\n",
    "time_series_means = pd.DataFrame({\n",
    "    'Obs'       : count_observations,\n",
    "    'Mean Age': mean_age.round(2),\n",
    "    'Mean Parity': mean_parity.round(2),\n",
    "    'Birth Rate': mean_birth_rate.round(3),\n",
    "    'Contracept': (mean_contraceptive_use * 100).round(2)\n",
    "})\n",
    "\n",
    "# Adding standard deviation as parentheses to column values\n",
    "time_series_means['Mean Age'] = time_series_means['Mean Age'].round(2).astype(str) + ' (' + std_age.round(2).astype(str) + ')'\n",
    "time_series_means['Mean Parity'] = time_series_means['Mean Parity'].round(2).astype(str) + ' (' + std_parity.round(2).astype(str) + ')'\n",
    "time_series_means['Contracept'] = time_series_means['Contracept'].round(2).astype(str) + '%'\n",
    "\n",
    "# Displaying the time series of sample means with standard deviation in parentheses\n",
    "print(time_series_means)"
   ]
  },
  {
   "attachments": {},
   "cell_type": "markdown",
   "metadata": {},
   "source": [
    "# Table 4: Sample birth frequencies by wife’s age (%)"
   ]
  },
  {
   "attachments": {},
   "cell_type": "markdown",
   "metadata": {},
   "source": [
    "Den viser ikke det samme som deres (hjælp fra caro) "
   ]
  },
  {
   "attachments": {},
   "cell_type": "markdown",
   "metadata": {},
   "source": [
    "Vi ser på c_birth_i givet at de ikke contracepter, hvoraf om de fik et barn i sidste periode eller ej, og så om de contracepter"
   ]
  },
  {
   "cell_type": "code",
   "execution_count": 336,
   "metadata": {},
   "outputs": [
    {
     "name": "stdout",
     "output_type": "stream",
     "text": [
      "   age_group  cc  p_birth_i   idx\n",
      "0      15-24   1          0 40.76\n",
      "1      15-24   1          1  2.21\n",
      "2      15-24   2          0 54.34\n",
      "3      15-24   2          1  2.69\n",
      "4      25-29   1          0 37.51\n",
      "5      25-29   1          1  1.89\n",
      "6      25-29   2          0 59.49\n",
      "7      25-29   2          1  1.11\n",
      "8      30-34   1          0 36.52\n",
      "9      30-34   1          1  1.15\n",
      "10     30-34   2          0 61.38\n",
      "11     30-34   2          1  0.96\n",
      "12     35-39   1          0 33.82\n",
      "13     35-39   1          1  0.74\n",
      "14     35-39   2          0 63.97\n",
      "15     35-39   2          1  1.47\n",
      "16     40-44   1          0 44.44\n",
      "17     40-44   1          1  0.00\n",
      "18     40-44   2          0 55.56\n",
      "19     40-44   2          1  0.00\n"
     ]
    }
   ],
   "source": [
    "# Define the age group bins and labels\n",
    "age_bins = [0, 25, 30, 35, 40, 45]\n",
    "age_labels = ['15-24', '25-29', '30-34', '35-39','40-44']\n",
    "\n",
    "df_2 = df_1.copy()\n",
    "df_2 = df_2[df_2['c_birth_i'] == 1].reset_index(drop=True)\n",
    "\n",
    "# Create a new column 'age_group' in df_1 based on age bins\n",
    "df_2['age_group'] = pd.cut(df_2['age_w'], bins=age_bins, labels=age_labels, right=False)\n",
    "\n",
    "df_2_p = df_2.groupby(['age_group', 'cc', 'p_birth_i']).count()[['idx']]\n",
    "# print(df_2_p)\n",
    "df_2_p_all = df_2.groupby(['age_group']).count()[['idx']]\n",
    "# print(df_2_p_all)\n",
    "df_p = df_2_p/df_2_p_all * 100\n",
    "df_p = df_p.reset_index()\n",
    "print(df_p)\n",
    "\n",
    "# # No contraception\n",
    "# df_2_no = df_2[df_2['cc'] == 1].reset_index(drop=True)\n",
    "# df_2_no_p0 = df_2_no[df_2_no['p_birth_i'] == 0].reset_index(drop=True)\n",
    "# df_2_no_p1 = df_2_no[df_2_no['p_birth_i'] == 1].reset_index(drop=True)\n",
    "\n",
    "# df_2_no_b_p = df_2_no.groupby(['age_group', 'p_birth_i', 'cc']).count()[['idx']]\n",
    "# # print(df_2_no_b_p)\n",
    "\n",
    "# # No contraception and no birth (0) and birth (1) in previous period\n",
    "# df_2_no_b_p = df_2_no.groupby(['age_group', 'p_birth_i']).count()[['idx']]\n",
    "# # print(df_2_no_b_p)\n",
    "\n",
    "# # Contraception\n",
    "# df_2_c = df_2[df_2['cc'] == 2].reset_index(drop=True)\n",
    "# # Contraception and birth \n",
    "# df_2_c_b_p = df_2_c.groupby(['age_group']).count()[['idx']]\n",
    "# # print(df_2_c_b_p)\n"
   ]
  },
  {
   "attachments": {},
   "cell_type": "markdown",
   "metadata": {},
   "source": [
    "## Figure 1: Proportion of couples contracepting, by age and parity"
   ]
  },
  {
   "attachments": {},
   "cell_type": "markdown",
   "metadata": {},
   "source": [
    "Denne er ikke som deres (hjælp fra caro) "
   ]
  },
  {
   "cell_type": "code",
   "execution_count": 340,
   "metadata": {},
   "outputs": [
    {
     "data": {
      "image/png": "[encoded data removed]",
      "text/plain": [
       "<Figure size 500x300 with 1 Axes>"
      ]
     },
     "metadata": {},
     "output_type": "display_data"
    }
   ],
   "source": [
    "# Define the age group bins and labels\n",
    "age_bins = [0, 25, 30, 35, 40, 45]\n",
    "age_labels = ['15-24', '25-29', '30-34', '35-39','40-44']\n",
    "\n",
    "# copy the data\n",
    "df_3 = df_1.copy()\n",
    "\n",
    "# Create a new column 'age_group' in df_1 based on age bins\n",
    "df_3['age_group'] = pd.cut(df_3['age_w'], bins=age_bins, labels=age_labels, right=False)\n",
    "\n",
    "# Define the parity groups\n",
    "parity_groups = ['0', '1', '2', '3+']\n",
    "\n",
    "# Filter the data for non-sterilized couples\n",
    "df_3 = df_3[df_3['cc'] == 2].reset_index(drop=True)\n",
    "\n",
    "# Sum the groups where parity is greater than 3 and represent it as \"3+\"\n",
    "df_3.loc[df_3['x'] >= 3, 'x'] = '3+'\n",
    "\n",
    "grouped_data = df_3.groupby(['age_group', 'x']).count()[['idx']]\n",
    "# print(grouped_data)\n",
    "age_grouped = df_3.groupby(['age_group']).count()[['idx']]\n",
    "# print(age_grouped)\n",
    "\n",
    "grouped_data_share = grouped_data/age_grouped * 100\n",
    "\n",
    "# Reset the index of the DataFrame\n",
    "grouped_data_share = grouped_data_share.reset_index()\n",
    "\n",
    "# Rename the column to 'Share'\n",
    "grouped_data_share = grouped_data_share.rename(columns={'idx': 'Share'})\n",
    "\n",
    "grouped_data_share_0 = grouped_data_share[grouped_data_share['x'] == 0]\n",
    "grouped_data_share_1 = grouped_data_share[grouped_data_share['x'] == 1]\n",
    "grouped_data_share_2 = grouped_data_share[grouped_data_share['x'] == 2]\n",
    "grouped_data_share_3 = grouped_data_share[grouped_data_share['x'] == '3+']\n",
    "\n",
    "plt.figure(figsize=(5, 3))\n",
    "plt.plot(grouped_data_share_0['age_group'], grouped_data_share_0['Share'], label=f'Parity 0')\n",
    "plt.plot(grouped_data_share_1['age_group'], grouped_data_share_1['Share'], label=f'Parity 1')    \n",
    "plt.plot(grouped_data_share_2['age_group'], grouped_data_share_2['Share'], label=f'Parity 2')\n",
    "plt.plot(grouped_data_share_3['age_group'], grouped_data_share_3['Share'], label=f'Parity 3+')\n",
    "\n",
    "plt.xlabel('Age Group')\n",
    "plt.ylabel('Share (%)')\n",
    "plt.title('Proportion of non-sterilized couples contracepting, by age and parity')\n",
    "plt.legend()\n",
    "plt.show()\n",
    "\n",
    "# # Save the figure as an image file\n",
    "# plt.savefig('figure.png', dpi=300)  # Change the file extension to save as a different image format\n",
    "\n",
    "# # Alternatively, save the figure as a PDF file\n",
    "# plt.savefig('figure.pdf', bbox_inches='tight')\n",
    "\n",
    "# # Close the figure to free up memory\n",
    "# plt.close()\n",
    "\n",
    "# \\begin{figure}\n",
    "#     \\centering\n",
    "#     \\includegraphics[width=0.8\\textwidth]{figure.png}  % Replace 'figure.png' with the actual filename\n",
    "#     \\caption{Proportion of non-sterilized couples contracepting, by age and parity}\n",
    "#     \\label{fig:proportion}\n",
    "# \\end{figure}"
   ]
  },
  {
   "attachments": {},
   "cell_type": "markdown",
   "metadata": {},
   "source": [
    "## Table 5: Contraceptive actions by age and parity (%)"
   ]
  },
  {
   "cell_type": "code",
   "execution_count": 333,
   "metadata": {},
   "outputs": [
    {
     "name": "stdout",
     "output_type": "stream",
     "text": [
      "\\begin{table}\n",
      "\\caption{Contraceptive Actions by Age and Parity (%)}\n",
      "\\label{tab:contraceptive-actions}\n",
      "\\begin{tabular}{llll}\n",
      "Parity & Age Group & No Contraception (%) & Contraception (%) \\\\\n",
      "0 & 15-24 & 44.99 & 55.01 \\\\\n",
      "0 & 25-29 & 47.89 & 52.11 \\\\\n",
      "0 & 30-34 & 56.19 & 43.81 \\\\\n",
      "0 & 35-39 & 72.54 & 27.46 \\\\\n",
      "0 & 40-44 & 75.00 & 25.00 \\\\\n",
      "1 & 15-24 & 29.41 & 70.59 \\\\\n",
      "1 & 25-29 & 28.32 & 71.68 \\\\\n",
      "1 & 30-34 & 30.12 & 69.88 \\\\\n",
      "1 & 35-39 & 27.27 & 72.73 \\\\\n",
      "1 & 40-44 & 25.56 & 74.44 \\\\\n",
      "2 & 15-24 & 21.78 & 78.22 \\\\\n",
      "2 & 25-29 & 15.96 & 84.04 \\\\\n",
      "2 & 30-34 & 13.69 & 86.31 \\\\\n",
      "2 & 35-39 & 12.37 & 87.63 \\\\\n",
      "2 & 40-44 & 15.50 & 84.50 \\\\\n",
      "3+ & 15-24 & 28.85 & 71.15 \\\\\n",
      "3+ & 25-29 & 26.13 & 73.87 \\\\\n",
      "3+ & 30-34 & 17.70 & 82.30 \\\\\n",
      "3+ & 35-39 & 17.92 & 82.08 \\\\\n",
      "3+ & 40-44 & 20.46 & 79.54 \\\\\n",
      "\\end{tabular}\n",
      "\\end{table}\n",
      "\n"
     ]
    }
   ],
   "source": [
    "# Define the age group bins and labels\n",
    "age_bins = [0, 25, 30, 35, 40, 45]\n",
    "age_labels = ['15-24', '25-29', '30-34', '35-39', '40-44']\n",
    "\n",
    "df_5 = df_1.copy()\n",
    "\n",
    "# Create a new column 'age_group' in df_1 based on age bins\n",
    "df_5['age_group'] = pd.cut(df_5['age_w'], bins=age_bins, labels=age_labels, right=False)\n",
    "\n",
    "# Define the parity groups\n",
    "parity_groups = ['0', '1', '2', '3+']\n",
    "\n",
    "df_5.loc[df_1['x'] >= 3, 'x'] = '3+'\n",
    "\n",
    "# Contraceptive actions by age and parity (%)\n",
    "\n",
    "df_1_ca_sum = df_5.groupby(['x', 'age_group']).count()['idx']\n",
    "df_1_ca_sum = df_1_ca_sum.reset_index()\n",
    "\n",
    "df_1_no_c = df_5[df_5['cc'] == 1]\n",
    "df_1_ca_no_c = df_1_no_c.groupby(['x', 'age_group']).count()['idx']\n",
    "df_1_ca_no_c = df_1_ca_no_c.reset_index()\n",
    "df_1_ca_no_c.columns = ['x', 'age_group', 'No Contraception']\n",
    "\n",
    "df_1_c = df_5[df_5['cc'] == 2]\n",
    "df_1_ca_c = df_1_c.groupby(['x', 'age_group']).count()['idx']\n",
    "df_1_ca_c = df_1_ca_c.reset_index()\n",
    "df_1_ca_c.columns = ['x', 'age_group', 'Contraception']\n",
    "\n",
    "data_ca = pd.merge(pd.merge(df_1_ca_no_c, df_1_ca_c, on=['x', 'age_group'], how='right'), df_1_ca_sum, on=['x', 'age_group'], how='right')\n",
    "\n",
    "data_ca['No Contraception (%)'] = ((data_ca['No Contraception'] / data_ca['idx']) * 100).round(2)\n",
    "data_ca['Contraception (%)'] = ((data_ca['Contraception'] / data_ca['idx']) * 100).round(2)\n",
    "\n",
    "data_ca_final = data_ca[['x', 'age_group', 'No Contraception (%)', 'Contraception (%)']]\n",
    "data_ca_final.columns = ['Parity', 'Age Group', 'No Contraception (%)', 'Contraception (%)']\n",
    "\n",
    "formatted_table = data_ca_final.copy()\n",
    "formatted_table[['No Contraception (%)', 'Contraception (%)']] = formatted_table[['No Contraception (%)', 'Contraception (%)']].applymap('{:.2f}'.format)\n",
    "\n",
    "# Convert formatted table to LaTeX table format with lines between x groups\n",
    "latex_table = formatted_table.style.hide(axis='index').to_latex(caption='Contraceptive Actions by Age and Parity (%)', label='tab:contraceptive-actions')\n",
    "\n",
    "print(latex_table)"
   ]
  },
  {
   "attachments": {},
   "cell_type": "markdown",
   "metadata": {},
   "source": [
    "## Table 7: Contraceptive choices, transition probabilities"
   ]
  },
  {
   "cell_type": "code",
   "execution_count": 355,
   "metadata": {},
   "outputs": [],
   "source": [
    "# Note: These sample statistics are calculated for couples whose education level is less than high school (both husband and wife); \n",
    "# the couple has R = 0 (not religious) and married when the wife was between 20 and 24 years old. \n",
    "# Periods t with a birth (b_t = 1) are excluded.\n",
    "\n",
    "df_6 = df_1.copy()\n",
    "\n",
    "df_6.loc[df_6['x'] >= 3, 'x'] = '3+'\n",
    "\n",
    "def contraceptive_transition(df, parity):\n",
    "    # Find the lagged values of x and cc\n",
    "    df['x_shifted'] = df.groupby('idx')['x'].shift(-1)\n",
    "    df['cc_shifted'] = df.groupby('idx')['cc'].shift(-1)\n",
    "\n",
    "    # Filter for given parity at t and t + 1\n",
    "    df_pivot = df[(df['x'] == parity) & (df['x_shifted'] == parity)]\n",
    "\n",
    "    # Group by contraception choice at t and t + 1\n",
    "    grouped = df_pivot.groupby(['cc', 'cc_shifted']).size().reset_index(name='Count')\n",
    "\n",
    "    # Calculate transition probabilities\n",
    "    grouped['Transition Probability'] = grouped.groupby('cc')['Count'].apply(lambda x: x / x.sum())\n",
    "\n",
    "    # Drop the Count column (optional)\n",
    "    grouped = grouped.drop('Count', axis=1)\n",
    "\n",
    "    # Create pivot table\n",
    "    pivot_table = grouped.pivot(index='cc', columns='cc_shifted', values='Transition Probability')\n",
    "\n",
    "    # Add row above column names\n",
    "    pivot_table.columns = ['No Contraception', 'Contracept']\n",
    "    pivot_table.columns = pd.MultiIndex.from_arrays([['Action at time t + 1', ''], pivot_table.columns])\n",
    "\n",
    "    # Add column to the left of index names\n",
    "    pivot_table.index = ['No Contraception', 'Contracept']\n",
    "    pivot_table.index = pd.MultiIndex.from_tuples([('Action at time t', 'No Contraception'), (' ', 'Contracept')])\n",
    "\n",
    "    # pivot_table = pivot_table.set_index(['Action at time t', pivot_table.index]).rename_axis(['',''])\n",
    "    # pivot_table.insert(0, ('Action at time t', ''), '')\n",
    "\n",
    "    pivot_table = (pivot_table * 100).round(2)\n",
    "\n",
    "    # Format pivot table values to two decimal places\n",
    "    formatted_table = pivot_table.applymap('{:.2f}'.format)\n",
    "\n",
    "    # Convert pivot table to LaTeX table format\n",
    "    latex_table = formatted_table.style.to_latex()\n",
    "x\n",
    "    return latex_table"
   ]
  },
  {
   "cell_type": "code",
   "execution_count": 347,
   "metadata": {},
   "outputs": [
    {
     "name": "stdout",
     "output_type": "stream",
     "text": [
      "\\begin{tabular}{llll}\n",
      " &  & Action at time t + 1 &  \\\\\n",
      " &  & No Contraception & Contracept \\\\\n",
      "Action at time t & No Contraception & 85.11 & 14.89 \\\\\n",
      "  & Contracept & 33.10 & 66.90 \\\\\n",
      "\\end{tabular}\n",
      "\n"
     ]
    }
   ],
   "source": [
    "# parity = 0\n",
    "latex_table = contraceptive_transition(df_6, 0)\n",
    "print(latex_table)"
   ]
  },
  {
   "cell_type": "code",
   "execution_count": 348,
   "metadata": {},
   "outputs": [
    {
     "name": "stdout",
     "output_type": "stream",
     "text": [
      "\\begin{tabular}{llll}\n",
      " &  & Action at time t + 1 &  \\\\\n",
      " &  & No Contraception & Contracept \\\\\n",
      "Action at time t & No Contraception & 71.57 & 28.43 \\\\\n",
      "  & Contracept & 14.75 & 85.25 \\\\\n",
      "\\end{tabular}\n",
      "\n"
     ]
    }
   ],
   "source": [
    "# parity = 1\n",
    "latex_table = contraceptive_transition(df_6, 1)\n",
    "print(latex_table)"
   ]
  },
  {
   "cell_type": "code",
   "execution_count": 349,
   "metadata": {},
   "outputs": [
    {
     "name": "stdout",
     "output_type": "stream",
     "text": [
      "\\begin{tabular}{llll}\n",
      " &  & Action at time t + 1 &  \\\\\n",
      " &  & No Contraception & Contracept \\\\\n",
      "Action at time t & No Contraception & 73.16 & 26.84 \\\\\n",
      "  & Contracept & 2.25 & 97.75 \\\\\n",
      "\\end{tabular}\n",
      "\n"
     ]
    }
   ],
   "source": [
    "# parity = 2\n",
    "latex_table = contraceptive_transition(df_6, 2)\n",
    "print(latex_table)"
   ]
  },
  {
   "cell_type": "code",
   "execution_count": 357,
   "metadata": {},
   "outputs": [
    {
     "name": "stdout",
     "output_type": "stream",
     "text": [
      "\\begin{tabular}{llll}\n",
      " &  & Action at time t + 1 &  \\\\\n",
      " &  & No Contraception & Contracept \\\\\n",
      "Action at time t & No Contraception & 79.95 & 20.05 \\\\\n",
      "  & Contracept & 2.72 & 97.28 \\\\\n",
      "\\end{tabular}\n",
      "\n"
     ]
    }
   ],
   "source": [
    "# parity = 2\n",
    "latex_table = contraceptive_transition(df_6, '3+')\n",
    "print(latex_table)"
   ]
  },
  {
   "attachments": {},
   "cell_type": "markdown",
   "metadata": {},
   "source": [
    "## Figure 3: Sample proportion of couples still contracepting, by duration of birth interval"
   ]
  },
  {
   "cell_type": "code",
   "execution_count": 362,
   "metadata": {},
   "outputs": [
    {
     "name": "stdout",
     "output_type": "stream",
     "text": [
      "x\n",
      "0     1806\n",
      "1     4825\n",
      "2     6666\n",
      "3+    2078\n",
      "dtype: int64\n",
      "x\n",
      "0     3550\n",
      "1     6777\n",
      "2     7793\n",
      "3+    2588\n",
      "dtype: int64\n",
      "x\n",
      "0    50.87\n",
      "1    71.20\n",
      "2    85.54\n",
      "3+   80.29\n",
      "dtype: float64\n"
     ]
    }
   ],
   "source": [
    "df_7 = df_1.copy()\n",
    "\n",
    "df_7.loc[df_7['x'] >= 3, 'x'] = '3+'\n",
    "\n",
    "df_7_c = df_7[df_7['cc'] == 2].reset_index(drop=True)\n",
    "df_7_c_grouped = df_7_c.groupby(['x']).size()\n",
    "print(df_7_c_grouped)\n",
    "\n",
    "df_7_grouped = df_7.groupby(['x']).size()\n",
    "print(df_7_grouped)\n",
    "\n",
    "share_c = (df_7_c_grouped / df_7_grouped*100).round(2)\n",
    "print(share_c)"
   ]
  },
  {
   "cell_type": "code",
   "execution_count": 375,
   "metadata": {},
   "outputs": [
    {
     "name": "stderr",
     "output_type": "stream",
     "text": [
      "/var/folders/_0/__2l_zk5425dbzpq1s84wr8r0000gn/T/ipykernel_68730/507136706.py:23: FutureWarning: The frame.append method is deprecated and will be removed from pandas in a future version. Use pandas.concat instead.\n",
      "  results = results.append({'Year': year, 'Group': group, 'Count': count, 'Share': share}, ignore_index=True)\n",
      "/var/folders/_0/__2l_zk5425dbzpq1s84wr8r0000gn/T/ipykernel_68730/507136706.py:23: FutureWarning: The frame.append method is deprecated and will be removed from pandas in a future version. Use pandas.concat instead.\n",
      "  results = results.append({'Year': year, 'Group': group, 'Count': count, 'Share': share}, ignore_index=True)\n",
      "/var/folders/_0/__2l_zk5425dbzpq1s84wr8r0000gn/T/ipykernel_68730/507136706.py:23: FutureWarning: The frame.append method is deprecated and will be removed from pandas in a future version. Use pandas.concat instead.\n",
      "  results = results.append({'Year': year, 'Group': group, 'Count': count, 'Share': share}, ignore_index=True)\n",
      "/var/folders/_0/__2l_zk5425dbzpq1s84wr8r0000gn/T/ipykernel_68730/507136706.py:23: FutureWarning: The frame.append method is deprecated and will be removed from pandas in a future version. Use pandas.concat instead.\n",
      "  results = results.append({'Year': year, 'Group': group, 'Count': count, 'Share': share}, ignore_index=True)\n",
      "/var/folders/_0/__2l_zk5425dbzpq1s84wr8r0000gn/T/ipykernel_68730/507136706.py:23: FutureWarning: The frame.append method is deprecated and will be removed from pandas in a future version. Use pandas.concat instead.\n",
      "  results = results.append({'Year': year, 'Group': group, 'Count': count, 'Share': share}, ignore_index=True)\n",
      "/var/folders/_0/__2l_zk5425dbzpq1s84wr8r0000gn/T/ipykernel_68730/507136706.py:23: FutureWarning: The frame.append method is deprecated and will be removed from pandas in a future version. Use pandas.concat instead.\n",
      "  results = results.append({'Year': year, 'Group': group, 'Count': count, 'Share': share}, ignore_index=True)\n",
      "/var/folders/_0/__2l_zk5425dbzpq1s84wr8r0000gn/T/ipykernel_68730/507136706.py:23: FutureWarning: The frame.append method is deprecated and will be removed from pandas in a future version. Use pandas.concat instead.\n",
      "  results = results.append({'Year': year, 'Group': group, 'Count': count, 'Share': share}, ignore_index=True)\n",
      "/var/folders/_0/__2l_zk5425dbzpq1s84wr8r0000gn/T/ipykernel_68730/507136706.py:23: FutureWarning: The frame.append method is deprecated and will be removed from pandas in a future version. Use pandas.concat instead.\n",
      "  results = results.append({'Year': year, 'Group': group, 'Count': count, 'Share': share}, ignore_index=True)\n",
      "/var/folders/_0/__2l_zk5425dbzpq1s84wr8r0000gn/T/ipykernel_68730/507136706.py:23: FutureWarning: The frame.append method is deprecated and will be removed from pandas in a future version. Use pandas.concat instead.\n",
      "  results = results.append({'Year': year, 'Group': group, 'Count': count, 'Share': share}, ignore_index=True)\n",
      "/var/folders/_0/__2l_zk5425dbzpq1s84wr8r0000gn/T/ipykernel_68730/507136706.py:23: FutureWarning: The frame.append method is deprecated and will be removed from pandas in a future version. Use pandas.concat instead.\n",
      "  results = results.append({'Year': year, 'Group': group, 'Count': count, 'Share': share}, ignore_index=True)\n",
      "/var/folders/_0/__2l_zk5425dbzpq1s84wr8r0000gn/T/ipykernel_68730/507136706.py:23: FutureWarning: The frame.append method is deprecated and will be removed from pandas in a future version. Use pandas.concat instead.\n",
      "  results = results.append({'Year': year, 'Group': group, 'Count': count, 'Share': share}, ignore_index=True)\n",
      "/var/folders/_0/__2l_zk5425dbzpq1s84wr8r0000gn/T/ipykernel_68730/507136706.py:23: FutureWarning: The frame.append method is deprecated and will be removed from pandas in a future version. Use pandas.concat instead.\n",
      "  results = results.append({'Year': year, 'Group': group, 'Count': count, 'Share': share}, ignore_index=True)\n",
      "/var/folders/_0/__2l_zk5425dbzpq1s84wr8r0000gn/T/ipykernel_68730/507136706.py:23: FutureWarning: The frame.append method is deprecated and will be removed from pandas in a future version. Use pandas.concat instead.\n",
      "  results = results.append({'Year': year, 'Group': group, 'Count': count, 'Share': share}, ignore_index=True)\n",
      "/var/folders/_0/__2l_zk5425dbzpq1s84wr8r0000gn/T/ipykernel_68730/507136706.py:23: FutureWarning: The frame.append method is deprecated and will be removed from pandas in a future version. Use pandas.concat instead.\n",
      "  results = results.append({'Year': year, 'Group': group, 'Count': count, 'Share': share}, ignore_index=True)\n",
      "/var/folders/_0/__2l_zk5425dbzpq1s84wr8r0000gn/T/ipykernel_68730/507136706.py:23: FutureWarning: The frame.append method is deprecated and will be removed from pandas in a future version. Use pandas.concat instead.\n",
      "  results = results.append({'Year': year, 'Group': group, 'Count': count, 'Share': share}, ignore_index=True)\n",
      "/var/folders/_0/__2l_zk5425dbzpq1s84wr8r0000gn/T/ipykernel_68730/507136706.py:23: FutureWarning: The frame.append method is deprecated and will be removed from pandas in a future version. Use pandas.concat instead.\n",
      "  results = results.append({'Year': year, 'Group': group, 'Count': count, 'Share': share}, ignore_index=True)\n",
      "/var/folders/_0/__2l_zk5425dbzpq1s84wr8r0000gn/T/ipykernel_68730/507136706.py:23: FutureWarning: The frame.append method is deprecated and will be removed from pandas in a future version. Use pandas.concat instead.\n",
      "  results = results.append({'Year': year, 'Group': group, 'Count': count, 'Share': share}, ignore_index=True)\n",
      "/var/folders/_0/__2l_zk5425dbzpq1s84wr8r0000gn/T/ipykernel_68730/507136706.py:23: FutureWarning: The frame.append method is deprecated and will be removed from pandas in a future version. Use pandas.concat instead.\n",
      "  results = results.append({'Year': year, 'Group': group, 'Count': count, 'Share': share}, ignore_index=True)\n",
      "/var/folders/_0/__2l_zk5425dbzpq1s84wr8r0000gn/T/ipykernel_68730/507136706.py:23: FutureWarning: The frame.append method is deprecated and will be removed from pandas in a future version. Use pandas.concat instead.\n",
      "  results = results.append({'Year': year, 'Group': group, 'Count': count, 'Share': share}, ignore_index=True)\n",
      "/var/folders/_0/__2l_zk5425dbzpq1s84wr8r0000gn/T/ipykernel_68730/507136706.py:23: FutureWarning: The frame.append method is deprecated and will be removed from pandas in a future version. Use pandas.concat instead.\n",
      "  results = results.append({'Year': year, 'Group': group, 'Count': count, 'Share': share}, ignore_index=True)\n",
      "/var/folders/_0/__2l_zk5425dbzpq1s84wr8r0000gn/T/ipykernel_68730/507136706.py:23: FutureWarning: The frame.append method is deprecated and will be removed from pandas in a future version. Use pandas.concat instead.\n",
      "  results = results.append({'Year': year, 'Group': group, 'Count': count, 'Share': share}, ignore_index=True)\n",
      "/var/folders/_0/__2l_zk5425dbzpq1s84wr8r0000gn/T/ipykernel_68730/507136706.py:23: FutureWarning: The frame.append method is deprecated and will be removed from pandas in a future version. Use pandas.concat instead.\n",
      "  results = results.append({'Year': year, 'Group': group, 'Count': count, 'Share': share}, ignore_index=True)\n",
      "/var/folders/_0/__2l_zk5425dbzpq1s84wr8r0000gn/T/ipykernel_68730/507136706.py:23: FutureWarning: The frame.append method is deprecated and will be removed from pandas in a future version. Use pandas.concat instead.\n",
      "  results = results.append({'Year': year, 'Group': group, 'Count': count, 'Share': share}, ignore_index=True)\n",
      "/var/folders/_0/__2l_zk5425dbzpq1s84wr8r0000gn/T/ipykernel_68730/507136706.py:23: FutureWarning: The frame.append method is deprecated and will be removed from pandas in a future version. Use pandas.concat instead.\n",
      "  results = results.append({'Year': year, 'Group': group, 'Count': count, 'Share': share}, ignore_index=True)\n",
      "/var/folders/_0/__2l_zk5425dbzpq1s84wr8r0000gn/T/ipykernel_68730/507136706.py:23: FutureWarning: The frame.append method is deprecated and will be removed from pandas in a future version. Use pandas.concat instead.\n",
      "  results = results.append({'Year': year, 'Group': group, 'Count': count, 'Share': share}, ignore_index=True)\n",
      "/var/folders/_0/__2l_zk5425dbzpq1s84wr8r0000gn/T/ipykernel_68730/507136706.py:23: FutureWarning: The frame.append method is deprecated and will be removed from pandas in a future version. Use pandas.concat instead.\n",
      "  results = results.append({'Year': year, 'Group': group, 'Count': count, 'Share': share}, ignore_index=True)\n",
      "/var/folders/_0/__2l_zk5425dbzpq1s84wr8r0000gn/T/ipykernel_68730/507136706.py:23: FutureWarning: The frame.append method is deprecated and will be removed from pandas in a future version. Use pandas.concat instead.\n",
      "  results = results.append({'Year': year, 'Group': group, 'Count': count, 'Share': share}, ignore_index=True)\n",
      "/var/folders/_0/__2l_zk5425dbzpq1s84wr8r0000gn/T/ipykernel_68730/507136706.py:23: FutureWarning: The frame.append method is deprecated and will be removed from pandas in a future version. Use pandas.concat instead.\n",
      "  results = results.append({'Year': year, 'Group': group, 'Count': count, 'Share': share}, ignore_index=True)\n",
      "/var/folders/_0/__2l_zk5425dbzpq1s84wr8r0000gn/T/ipykernel_68730/507136706.py:23: FutureWarning: The frame.append method is deprecated and will be removed from pandas in a future version. Use pandas.concat instead.\n",
      "  results = results.append({'Year': year, 'Group': group, 'Count': count, 'Share': share}, ignore_index=True)\n",
      "/var/folders/_0/__2l_zk5425dbzpq1s84wr8r0000gn/T/ipykernel_68730/507136706.py:23: FutureWarning: The frame.append method is deprecated and will be removed from pandas in a future version. Use pandas.concat instead.\n",
      "  results = results.append({'Year': year, 'Group': group, 'Count': count, 'Share': share}, ignore_index=True)\n",
      "/var/folders/_0/__2l_zk5425dbzpq1s84wr8r0000gn/T/ipykernel_68730/507136706.py:23: FutureWarning: The frame.append method is deprecated and will be removed from pandas in a future version. Use pandas.concat instead.\n",
      "  results = results.append({'Year': year, 'Group': group, 'Count': count, 'Share': share}, ignore_index=True)\n",
      "/var/folders/_0/__2l_zk5425dbzpq1s84wr8r0000gn/T/ipykernel_68730/507136706.py:23: FutureWarning: The frame.append method is deprecated and will be removed from pandas in a future version. Use pandas.concat instead.\n",
      "  results = results.append({'Year': year, 'Group': group, 'Count': count, 'Share': share}, ignore_index=True)\n",
      "/var/folders/_0/__2l_zk5425dbzpq1s84wr8r0000gn/T/ipykernel_68730/507136706.py:23: FutureWarning: The frame.append method is deprecated and will be removed from pandas in a future version. Use pandas.concat instead.\n",
      "  results = results.append({'Year': year, 'Group': group, 'Count': count, 'Share': share}, ignore_index=True)\n",
      "/var/folders/_0/__2l_zk5425dbzpq1s84wr8r0000gn/T/ipykernel_68730/507136706.py:23: FutureWarning: The frame.append method is deprecated and will be removed from pandas in a future version. Use pandas.concat instead.\n",
      "  results = results.append({'Year': year, 'Group': group, 'Count': count, 'Share': share}, ignore_index=True)\n",
      "/var/folders/_0/__2l_zk5425dbzpq1s84wr8r0000gn/T/ipykernel_68730/507136706.py:23: FutureWarning: The frame.append method is deprecated and will be removed from pandas in a future version. Use pandas.concat instead.\n",
      "  results = results.append({'Year': year, 'Group': group, 'Count': count, 'Share': share}, ignore_index=True)\n",
      "/var/folders/_0/__2l_zk5425dbzpq1s84wr8r0000gn/T/ipykernel_68730/507136706.py:23: FutureWarning: The frame.append method is deprecated and will be removed from pandas in a future version. Use pandas.concat instead.\n",
      "  results = results.append({'Year': year, 'Group': group, 'Count': count, 'Share': share}, ignore_index=True)\n",
      "/var/folders/_0/__2l_zk5425dbzpq1s84wr8r0000gn/T/ipykernel_68730/507136706.py:23: FutureWarning: The frame.append method is deprecated and will be removed from pandas in a future version. Use pandas.concat instead.\n",
      "  results = results.append({'Year': year, 'Group': group, 'Count': count, 'Share': share}, ignore_index=True)\n",
      "/var/folders/_0/__2l_zk5425dbzpq1s84wr8r0000gn/T/ipykernel_68730/507136706.py:23: FutureWarning: The frame.append method is deprecated and will be removed from pandas in a future version. Use pandas.concat instead.\n",
      "  results = results.append({'Year': year, 'Group': group, 'Count': count, 'Share': share}, ignore_index=True)\n",
      "/var/folders/_0/__2l_zk5425dbzpq1s84wr8r0000gn/T/ipykernel_68730/507136706.py:23: FutureWarning: The frame.append method is deprecated and will be removed from pandas in a future version. Use pandas.concat instead.\n",
      "  results = results.append({'Year': year, 'Group': group, 'Count': count, 'Share': share}, ignore_index=True)\n",
      "/var/folders/_0/__2l_zk5425dbzpq1s84wr8r0000gn/T/ipykernel_68730/507136706.py:23: FutureWarning: The frame.append method is deprecated and will be removed from pandas in a future version. Use pandas.concat instead.\n",
      "  results = results.append({'Year': year, 'Group': group, 'Count': count, 'Share': share}, ignore_index=True)\n",
      "/var/folders/_0/__2l_zk5425dbzpq1s84wr8r0000gn/T/ipykernel_68730/507136706.py:23: FutureWarning: The frame.append method is deprecated and will be removed from pandas in a future version. Use pandas.concat instead.\n",
      "  results = results.append({'Year': year, 'Group': group, 'Count': count, 'Share': share}, ignore_index=True)\n",
      "/var/folders/_0/__2l_zk5425dbzpq1s84wr8r0000gn/T/ipykernel_68730/507136706.py:23: FutureWarning: The frame.append method is deprecated and will be removed from pandas in a future version. Use pandas.concat instead.\n",
      "  results = results.append({'Year': year, 'Group': group, 'Count': count, 'Share': share}, ignore_index=True)\n",
      "/var/folders/_0/__2l_zk5425dbzpq1s84wr8r0000gn/T/ipykernel_68730/507136706.py:23: FutureWarning: The frame.append method is deprecated and will be removed from pandas in a future version. Use pandas.concat instead.\n",
      "  results = results.append({'Year': year, 'Group': group, 'Count': count, 'Share': share}, ignore_index=True)\n",
      "/var/folders/_0/__2l_zk5425dbzpq1s84wr8r0000gn/T/ipykernel_68730/507136706.py:23: FutureWarning: The frame.append method is deprecated and will be removed from pandas in a future version. Use pandas.concat instead.\n",
      "  results = results.append({'Year': year, 'Group': group, 'Count': count, 'Share': share}, ignore_index=True)\n"
     ]
    },
    {
     "ename": "TypeError",
     "evalue": "cannot convert the series to <class 'int'>",
     "output_type": "error",
     "traceback": [
      "\u001b[0;31m---------------------------------------------------------------------------\u001b[0m",
      "\u001b[0;31mTypeError\u001b[0m                                 Traceback (most recent call last)",
      "\u001b[0;32m/var/folders/_0/__2l_zk5425dbzpq1s84wr8r0000gn/T/ipykernel_68730/507136706.py\u001b[0m in \u001b[0;36m<module>\u001b[0;34m\u001b[0m\n\u001b[1;32m     29\u001b[0m \u001b[0;34m\u001b[0m\u001b[0m\n\u001b[1;32m     30\u001b[0m \u001b[0munique_groups\u001b[0m \u001b[0;34m=\u001b[0m \u001b[0mresults\u001b[0m\u001b[0;34m[\u001b[0m\u001b[0;34m'Group'\u001b[0m\u001b[0;34m]\u001b[0m\u001b[0;34m.\u001b[0m\u001b[0munique\u001b[0m\u001b[0;34m(\u001b[0m\u001b[0;34m)\u001b[0m\u001b[0;34m\u001b[0m\u001b[0;34m\u001b[0m\u001b[0m\n\u001b[0;32m---> 31\u001b[0;31m \u001b[0munique_groups\u001b[0m \u001b[0;34m=\u001b[0m \u001b[0mpd\u001b[0m\u001b[0;34m.\u001b[0m\u001b[0mSeries\u001b[0m\u001b[0;34m(\u001b[0m\u001b[0munique_groups\u001b[0m\u001b[0;34m)\u001b[0m\u001b[0;34m.\u001b[0m\u001b[0msort_values\u001b[0m\u001b[0;34m(\u001b[0m\u001b[0mascending\u001b[0m\u001b[0;34m=\u001b[0m\u001b[0;32mTrue\u001b[0m\u001b[0;34m,\u001b[0m \u001b[0mkey\u001b[0m\u001b[0;34m=\u001b[0m\u001b[0;32mlambda\u001b[0m \u001b[0mx\u001b[0m\u001b[0;34m:\u001b[0m \u001b[0mint\u001b[0m\u001b[0;34m(\u001b[0m\u001b[0mx\u001b[0m\u001b[0;34m.\u001b[0m\u001b[0mreplace\u001b[0m\u001b[0;34m(\u001b[0m\u001b[0;34m'+'\u001b[0m\u001b[0;34m,\u001b[0m \u001b[0;34m''\u001b[0m\u001b[0;34m)\u001b[0m\u001b[0;34m)\u001b[0m \u001b[0;32mif\u001b[0m \u001b[0;34m'+'\u001b[0m \u001b[0;32min\u001b[0m \u001b[0mx\u001b[0m \u001b[0;32melse\u001b[0m \u001b[0mint\u001b[0m\u001b[0;34m(\u001b[0m\u001b[0mx\u001b[0m\u001b[0;34m)\u001b[0m\u001b[0;34m)\u001b[0m\u001b[0;34m\u001b[0m\u001b[0;34m\u001b[0m\u001b[0m\n\u001b[0m\u001b[1;32m     32\u001b[0m \u001b[0;34m\u001b[0m\u001b[0m\n\u001b[1;32m     33\u001b[0m \u001b[0;34m\u001b[0m\u001b[0m\n",
      "\u001b[0;32m/opt/anaconda3/lib/python3.9/site-packages/pandas/util/_decorators.py\u001b[0m in \u001b[0;36mwrapper\u001b[0;34m(*args, **kwargs)\u001b[0m\n\u001b[1;32m    309\u001b[0m                     \u001b[0mstacklevel\u001b[0m\u001b[0;34m=\u001b[0m\u001b[0mstacklevel\u001b[0m\u001b[0;34m,\u001b[0m\u001b[0;34m\u001b[0m\u001b[0;34m\u001b[0m\u001b[0m\n\u001b[1;32m    310\u001b[0m                 )\n\u001b[0;32m--> 311\u001b[0;31m             \u001b[0;32mreturn\u001b[0m \u001b[0mfunc\u001b[0m\u001b[0;34m(\u001b[0m\u001b[0;34m*\u001b[0m\u001b[0margs\u001b[0m\u001b[0;34m,\u001b[0m \u001b[0;34m**\u001b[0m\u001b[0mkwargs\u001b[0m\u001b[0;34m)\u001b[0m\u001b[0;34m\u001b[0m\u001b[0;34m\u001b[0m\u001b[0m\n\u001b[0m\u001b[1;32m    312\u001b[0m \u001b[0;34m\u001b[0m\u001b[0m\n\u001b[1;32m    313\u001b[0m         \u001b[0;32mreturn\u001b[0m \u001b[0mwrapper\u001b[0m\u001b[0;34m\u001b[0m\u001b[0;34m\u001b[0m\u001b[0m\n",
      "\u001b[0;32m/opt/anaconda3/lib/python3.9/site-packages/pandas/core/series.py\u001b[0m in \u001b[0;36msort_values\u001b[0;34m(self, axis, ascending, inplace, kind, na_position, ignore_index, key)\u001b[0m\n\u001b[1;32m   3523\u001b[0m \u001b[0;34m\u001b[0m\u001b[0m\n\u001b[1;32m   3524\u001b[0m         \u001b[0;31m# GH 35922. Make sorting stable by leveraging nargsort\u001b[0m\u001b[0;34m\u001b[0m\u001b[0;34m\u001b[0m\u001b[0m\n\u001b[0;32m-> 3525\u001b[0;31m         \u001b[0mvalues_to_sort\u001b[0m \u001b[0;34m=\u001b[0m \u001b[0mensure_key_mapped\u001b[0m\u001b[0;34m(\u001b[0m\u001b[0mself\u001b[0m\u001b[0;34m,\u001b[0m \u001b[0mkey\u001b[0m\u001b[0;34m)\u001b[0m\u001b[0;34m.\u001b[0m\u001b[0m_values\u001b[0m \u001b[0;32mif\u001b[0m \u001b[0mkey\u001b[0m \u001b[0;32melse\u001b[0m \u001b[0mself\u001b[0m\u001b[0;34m.\u001b[0m\u001b[0m_values\u001b[0m\u001b[0;34m\u001b[0m\u001b[0;34m\u001b[0m\u001b[0m\n\u001b[0m\u001b[1;32m   3526\u001b[0m         \u001b[0msorted_index\u001b[0m \u001b[0;34m=\u001b[0m \u001b[0mnargsort\u001b[0m\u001b[0;34m(\u001b[0m\u001b[0mvalues_to_sort\u001b[0m\u001b[0;34m,\u001b[0m \u001b[0mkind\u001b[0m\u001b[0;34m,\u001b[0m \u001b[0mbool\u001b[0m\u001b[0;34m(\u001b[0m\u001b[0mascending\u001b[0m\u001b[0;34m)\u001b[0m\u001b[0;34m,\u001b[0m \u001b[0mna_position\u001b[0m\u001b[0;34m)\u001b[0m\u001b[0;34m\u001b[0m\u001b[0;34m\u001b[0m\u001b[0m\n\u001b[1;32m   3527\u001b[0m \u001b[0;34m\u001b[0m\u001b[0m\n",
      "\u001b[0;32m/opt/anaconda3/lib/python3.9/site-packages/pandas/core/sorting.py\u001b[0m in \u001b[0;36mensure_key_mapped\u001b[0;34m(values, key, levels)\u001b[0m\n\u001b[1;32m    543\u001b[0m         \u001b[0;32mreturn\u001b[0m \u001b[0m_ensure_key_mapped_multiindex\u001b[0m\u001b[0;34m(\u001b[0m\u001b[0mvalues\u001b[0m\u001b[0;34m,\u001b[0m \u001b[0mkey\u001b[0m\u001b[0;34m,\u001b[0m \u001b[0mlevel\u001b[0m\u001b[0;34m=\u001b[0m\u001b[0mlevels\u001b[0m\u001b[0;34m)\u001b[0m\u001b[0;34m\u001b[0m\u001b[0;34m\u001b[0m\u001b[0m\n\u001b[1;32m    544\u001b[0m \u001b[0;34m\u001b[0m\u001b[0m\n\u001b[0;32m--> 545\u001b[0;31m     \u001b[0mresult\u001b[0m \u001b[0;34m=\u001b[0m \u001b[0mkey\u001b[0m\u001b[0;34m(\u001b[0m\u001b[0mvalues\u001b[0m\u001b[0;34m.\u001b[0m\u001b[0mcopy\u001b[0m\u001b[0;34m(\u001b[0m\u001b[0;34m)\u001b[0m\u001b[0;34m)\u001b[0m\u001b[0;34m\u001b[0m\u001b[0;34m\u001b[0m\u001b[0m\n\u001b[0m\u001b[1;32m    546\u001b[0m     \u001b[0;32mif\u001b[0m \u001b[0mlen\u001b[0m\u001b[0;34m(\u001b[0m\u001b[0mresult\u001b[0m\u001b[0;34m)\u001b[0m \u001b[0;34m!=\u001b[0m \u001b[0mlen\u001b[0m\u001b[0;34m(\u001b[0m\u001b[0mvalues\u001b[0m\u001b[0;34m)\u001b[0m\u001b[0;34m:\u001b[0m\u001b[0;34m\u001b[0m\u001b[0;34m\u001b[0m\u001b[0m\n\u001b[1;32m    547\u001b[0m         raise ValueError(\n",
      "\u001b[0;32m/var/folders/_0/__2l_zk5425dbzpq1s84wr8r0000gn/T/ipykernel_68730/507136706.py\u001b[0m in \u001b[0;36m<lambda>\u001b[0;34m(x)\u001b[0m\n\u001b[1;32m     29\u001b[0m \u001b[0;34m\u001b[0m\u001b[0m\n\u001b[1;32m     30\u001b[0m \u001b[0munique_groups\u001b[0m \u001b[0;34m=\u001b[0m \u001b[0mresults\u001b[0m\u001b[0;34m[\u001b[0m\u001b[0;34m'Group'\u001b[0m\u001b[0;34m]\u001b[0m\u001b[0;34m.\u001b[0m\u001b[0munique\u001b[0m\u001b[0;34m(\u001b[0m\u001b[0;34m)\u001b[0m\u001b[0;34m\u001b[0m\u001b[0;34m\u001b[0m\u001b[0m\n\u001b[0;32m---> 31\u001b[0;31m \u001b[0munique_groups\u001b[0m \u001b[0;34m=\u001b[0m \u001b[0mpd\u001b[0m\u001b[0;34m.\u001b[0m\u001b[0mSeries\u001b[0m\u001b[0;34m(\u001b[0m\u001b[0munique_groups\u001b[0m\u001b[0;34m)\u001b[0m\u001b[0;34m.\u001b[0m\u001b[0msort_values\u001b[0m\u001b[0;34m(\u001b[0m\u001b[0mascending\u001b[0m\u001b[0;34m=\u001b[0m\u001b[0;32mTrue\u001b[0m\u001b[0;34m,\u001b[0m \u001b[0mkey\u001b[0m\u001b[0;34m=\u001b[0m\u001b[0;32mlambda\u001b[0m \u001b[0mx\u001b[0m\u001b[0;34m:\u001b[0m \u001b[0mint\u001b[0m\u001b[0;34m(\u001b[0m\u001b[0mx\u001b[0m\u001b[0;34m.\u001b[0m\u001b[0mreplace\u001b[0m\u001b[0;34m(\u001b[0m\u001b[0;34m'+'\u001b[0m\u001b[0;34m,\u001b[0m \u001b[0;34m''\u001b[0m\u001b[0;34m)\u001b[0m\u001b[0;34m)\u001b[0m \u001b[0;32mif\u001b[0m \u001b[0;34m'+'\u001b[0m \u001b[0;32min\u001b[0m \u001b[0mx\u001b[0m \u001b[0;32melse\u001b[0m \u001b[0mint\u001b[0m\u001b[0;34m(\u001b[0m\u001b[0mx\u001b[0m\u001b[0;34m)\u001b[0m\u001b[0;34m)\u001b[0m\u001b[0;34m\u001b[0m\u001b[0;34m\u001b[0m\u001b[0m\n\u001b[0m\u001b[1;32m     32\u001b[0m \u001b[0;34m\u001b[0m\u001b[0m\n\u001b[1;32m     33\u001b[0m \u001b[0;34m\u001b[0m\u001b[0m\n",
      "\u001b[0;32m/opt/anaconda3/lib/python3.9/site-packages/pandas/core/series.py\u001b[0m in \u001b[0;36mwrapper\u001b[0;34m(self)\u001b[0m\n\u001b[1;32m    189\u001b[0m         \u001b[0;32mif\u001b[0m \u001b[0mlen\u001b[0m\u001b[0;34m(\u001b[0m\u001b[0mself\u001b[0m\u001b[0;34m)\u001b[0m \u001b[0;34m==\u001b[0m \u001b[0;36m1\u001b[0m\u001b[0;34m:\u001b[0m\u001b[0;34m\u001b[0m\u001b[0;34m\u001b[0m\u001b[0m\n\u001b[1;32m    190\u001b[0m             \u001b[0;32mreturn\u001b[0m \u001b[0mconverter\u001b[0m\u001b[0;34m(\u001b[0m\u001b[0mself\u001b[0m\u001b[0;34m.\u001b[0m\u001b[0miloc\u001b[0m\u001b[0;34m[\u001b[0m\u001b[0;36m0\u001b[0m\u001b[0;34m]\u001b[0m\u001b[0;34m)\u001b[0m\u001b[0;34m\u001b[0m\u001b[0;34m\u001b[0m\u001b[0m\n\u001b[0;32m--> 191\u001b[0;31m         \u001b[0;32mraise\u001b[0m \u001b[0mTypeError\u001b[0m\u001b[0;34m(\u001b[0m\u001b[0;34mf\"cannot convert the series to {converter}\"\u001b[0m\u001b[0;34m)\u001b[0m\u001b[0;34m\u001b[0m\u001b[0;34m\u001b[0m\u001b[0m\n\u001b[0m\u001b[1;32m    192\u001b[0m \u001b[0;34m\u001b[0m\u001b[0m\n\u001b[1;32m    193\u001b[0m     \u001b[0mwrapper\u001b[0m\u001b[0;34m.\u001b[0m\u001b[0m__name__\u001b[0m \u001b[0;34m=\u001b[0m \u001b[0;34mf\"__{converter.__name__}__\"\u001b[0m\u001b[0;34m\u001b[0m\u001b[0;34m\u001b[0m\u001b[0m\n",
      "\u001b[0;31mTypeError\u001b[0m: cannot convert the series to <class 'int'>"
     ]
    }
   ],
   "source": [
    "# Assuming you have a DataFrame named df_1 with 'year' columns\n",
    "df_7 = df_1.copy()\n",
    "\n",
    "df_7.loc[df_7['x'] >= 3, 'x'] = '3+'\n",
    "\n",
    "# Assuming 'year' is the column indicating the year\n",
    "years = df_7['year'].unique()\n",
    "\n",
    "# Create an empty DataFrame to store the results for each year\n",
    "results = pd.DataFrame(columns=['Year', 'Group', 'Count', 'Share'])\n",
    "\n",
    "# Iterate over each year\n",
    "for year in years:\n",
    "    df_7_year = df_7[df_7['year'] == year].reset_index(drop=True)\n",
    "    df_7_c_year = df_7_year[df_7_year['cc'] == 2].reset_index(drop=True)\n",
    "    df_7_c_grouped_year = df_7_c_year.groupby(['x']).size()\n",
    "    df_7_grouped_year = df_7_year.groupby(['x']).size()\n",
    "    \n",
    "    share_c_year = (df_7_c_grouped_year / df_7_grouped_year * 100).round(2)\n",
    "    \n",
    "    # Append the results for the current year to the results DataFrame\n",
    "    for group, count, share in zip(share_c_year.index, df_7_c_grouped_year, share_c_year):\n",
    "        results = results.append({'Year': year, 'Group': group, 'Count': count, 'Share': share}, ignore_index=True)\n",
    "\n",
    "# Print the results\n",
    "# print(results)\n",
    "\n",
    "results = results.sort_values('Year')\n",
    "\n",
    "unique_groups = results['Group'].unique()\n",
    "unique_groups = pd.Series(unique_groups).sort_values(ascending=True, key=lambda x: int(x.replace('+', '')) if '+' in x else int(x))\n",
    "\n",
    "\n",
    "for g in unique_groups:\n",
    "    plt.plot(results[results['Group'] == g]['Year'], results[results['Group'] == g]['Share'], label=g)\n",
    "\n",
    "\n",
    "# for g in results['Group']:\n",
    "#     plt.plot(results[results['Group'] == g]['Year'], results[results['Group'] == g]['Share'], label=g)\n",
    "\n",
    "plt.xlabel('Year')\n",
    "plt.ylabel('Share of Contraception')\n",
    "plt.title('Share of Contraception by Parity')\n",
    "plt.legend()\n",
    "\n"
   ]
  }
 ],
 "metadata": {
  "kernelspec": {
   "display_name": "base",
   "language": "python",
   "name": "python3"
  },
  "language_info": {
   "codemirror_mode": {
    "name": "ipython",
    "version": 3
   },
   "file_extension": ".py",
   "mimetype": "text/x-python",
   "name": "python",
   "nbconvert_exporter": "python",
   "pygments_lexer": "ipython3",
   "version": "3.9.13"
  },
  "orig_nbformat": 4
 },
 "nbformat": 4,
 "nbformat_minor": 2
}
