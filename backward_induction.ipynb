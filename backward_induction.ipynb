{
 "cells": [
  {
   "attachments": {},
   "cell_type": "markdown",
   "metadata": {},
   "source": [
    "# Backward induction"
   ]
  },
  {
   "cell_type": "code",
   "execution_count": 2,
   "metadata": {},
   "outputs": [],
   "source": [
    "# a. set magic \n",
    "%load_ext autoreload\n",
    "%autoreload 2\n",
    "\n",
    "# b. load packages \n",
    "import numpy as np\n",
    "\n",
    "# c. local modules\n",
    "from mytest import child_model"
   ]
  },
  {
   "attachments": {},
   "cell_type": "markdown",
   "metadata": {},
   "source": [
    "Estimate the model in order to extract the parameters and the transision probabilities "
   ]
  },
  {
   "cell_type": "code",
   "execution_count": 86,
   "metadata": {},
   "outputs": [],
   "source": [
    "# Step 1: Create an instance of child_model\n",
    "model = child_model()"
   ]
  },
  {
   "attachments": {},
   "cell_type": "markdown",
   "metadata": {},
   "source": [
    "Define the utility"
   ]
  },
  {
   "cell_type": "code",
   "execution_count": 90,
   "metadata": {},
   "outputs": [],
   "source": [
    "def util(N,d,model):\n",
    "    return model.eta2*N + model.eta3*(N**2) + model.mu*d "
   ]
  },
  {
   "attachments": {},
   "cell_type": "markdown",
   "metadata": {},
   "source": [
    "Use backwards induction"
   ]
  },
  {
   "cell_type": "code",
   "execution_count": 89,
   "metadata": {},
   "outputs": [],
   "source": [
    "# Reset the parameters \n",
    "model.mu = -0.12\n",
    "model.eta2 = 0.15\n",
    "model.eta3 = -0.13\n",
    "\n",
    "# Step 2: Initialize value function and policy\n",
    "n = model.n\n",
    "T = model.T\n",
    "V = np.zeros([n, T + 1])\n",
    "D = np.zeros([n, T + 1])\n",
    "D[:,T] = 0\n",
    "V[:,T] = util(np.arange(n), 0, model)\n",
    "\n",
    "# Lists for storing values\n",
    "value_0 = []\n",
    "value_1 = []\n",
    "maxV = []\n",
    "\n",
    "# Step 3: Backward induction\n",
    "for t in range(T-1, -1, -1):\n",
    "    for nn in range(n):\n",
    "        for d in range(2):\n",
    "            if d == 0:\n",
    "                value_0.append(util(nn, 0, model) + model.beta * V[:, t+1])\n",
    "            if d == 1:\n",
    "                value_1.append(util(nn, 1, model) + model.beta * V[:, t+1])\n",
    "        maxV.append(np.maximum(value_0[-1], value_1[-1]))\n",
    "        logsum = maxV[-1] + np.log(np.exp(value_0[-1] - maxV[-1]) + np.exp(value_1[-1] - maxV[-1]))\n",
    "        V[nn, t] = model.P1[nn] @ logsum\n",
    "        D[nn, t] = (1 - 1 / (1 + np.exp(V[nn, t+1] - V[nn, t]))).round(0)\n"
   ]
  }
 ],
 "metadata": {
  "kernelspec": {
   "display_name": "base",
   "language": "python",
   "name": "python3"
  },
  "language_info": {
   "codemirror_mode": {
    "name": "ipython",
    "version": 3
   },
   "file_extension": ".py",
   "mimetype": "text/x-python",
   "name": "python",
   "nbconvert_exporter": "python",
   "pygments_lexer": "ipython3",
   "version": "3.9.13"
  },
  "orig_nbformat": 4,
  "vscode": {
   "interpreter": {
    "hash": "32077810f91c82a01173fac87666ad4b066461331ac0e11d6466db2e366e3ab6"
   }
  }
 },
 "nbformat": 4,
 "nbformat_minor": 2
}
