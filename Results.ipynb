{
 "cells": [
  {
   "cell_type": "code",
   "execution_count": 1,
   "metadata": {},
   "outputs": [],
   "source": [
    "import numpy as np\n",
    "import pandas as pd"
   ]
  },
  {
   "cell_type": "code",
   "execution_count": 21,
   "metadata": {},
   "outputs": [
    {
     "name": "stdout",
     "output_type": "stream",
     "text": [
      "\\begin{table}\n",
      "\\caption{Estimates of Structural Parameters}\n",
      "\\begin{tabular}{lll}\n",
      "Parameters & Variables & Estimates \\\\\n",
      "$\\mu_{21}$ & Contraceptive cost per year & 0.12 \\\\\n",
      "$\\eat_2$ & $N_t$ stock of children & 0.15 \\\\\n",
      "$\\eta_3$ & $N_2^t$ & -0.05 \\\\\n",
      "\\end{tabular}\n",
      "\\end{table}\n",
      "\n"
     ]
    }
   ],
   "source": [
    "# result table \n",
    "mu_21 = 0.12\n",
    "eta_2 = 0.15\n",
    "eta_3 = -0.05\n",
    "\n",
    "results = pd.DataFrame({\n",
    "                        'Parameters' : ['$\\mu_{21}$', '$\\eat_2$', '$\\eta_3$'],\n",
    "                        'Variables' : ['Contraceptive cost per year', '$N_t$ stock of children', '$N_2^t$'],\n",
    "                        'Estimates' : [mu_21, eta_2, eta_3]\n",
    "})\n",
    "\n",
    "results_2 = results.loc[:, ['Estimates']].applymap('{:.2f}'.format)\n",
    "result_df = pd.concat([results.iloc[:,0:2], results_2], axis=1)\n",
    "\n",
    "print(result_df.style.hide(axis='index').to_latex(caption = 'Estimates of Structural Parameters'))"
   ]
  }
 ],
 "metadata": {
  "kernelspec": {
   "display_name": "base",
   "language": "python",
   "name": "python3"
  },
  "language_info": {
   "codemirror_mode": {
    "name": "ipython",
    "version": 3
   },
   "file_extension": ".py",
   "mimetype": "text/x-python",
   "name": "python",
   "nbconvert_exporter": "python",
   "pygments_lexer": "ipython3",
   "version": "3.9.13"
  },
  "orig_nbformat": 4
 },
 "nbformat": 4,
 "nbformat_minor": 2
}
