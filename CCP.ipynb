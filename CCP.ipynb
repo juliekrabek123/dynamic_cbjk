{
 "cells": [
  {
   "cell_type": "code",
   "execution_count": 1,
   "metadata": {},
   "outputs": [],
   "source": [
    "# a. set magic \n",
    "%load_ext autoreload\n",
    "%autoreload 2\n",
    "\n",
    "# b. load packages \n",
    "import numpy as np\n",
    "import matplotlib.pyplot as plt\n",
    "plt.style.use('seaborn-whitegrid')\n",
    "import autograd.numpy as np\n",
    "\n",
    "import copy\n",
    "\n",
    "# c. local modules\n",
    "import CCP as estimate\n",
    "from contracept_model_3 import child_model3\n",
    "import back as solver\n"
   ]
  },
  {
   "cell_type": "code",
   "execution_count": 2,
   "metadata": {},
   "outputs": [],
   "source": [
    "model = child_model3()"
   ]
  },
  {
   "cell_type": "code",
   "execution_count": 9,
   "metadata": {},
   "outputs": [],
   "source": [
    "V, pnc = solver.BackwardsInduction3(model)\n",
    "dataset = model.sim_data(pnc)"
   ]
  },
  {
   "cell_type": "code",
   "execution_count": 14,
   "metadata": {},
   "outputs": [],
   "source": [
    "choice = dataset.d\n",
    "covariates = dataset.x\n"
   ]
  },
  {
   "cell_type": "code",
   "execution_count": 17,
   "metadata": {},
   "outputs": [
    {
     "ename": "ValueError",
     "evalue": "cannot reshape array of size 20982 into shape (20982,27)",
     "output_type": "error",
     "traceback": [
      "\u001b[0;31m---------------------------------------------------------------------------\u001b[0m",
      "\u001b[0;31mValueError\u001b[0m                                Traceback (most recent call last)",
      "\u001b[0;32m/var/folders/cf/0fy4v8b50jx90wrzrk8mmmqm0000gn/T/ipykernel_5540/549753936.py\u001b[0m in \u001b[0;36m<module>\u001b[0;34m\u001b[0m\n\u001b[1;32m     57\u001b[0m \u001b[0mdiscount_factor\u001b[0m \u001b[0;34m=\u001b[0m \u001b[0;36m0.95\u001b[0m  \u001b[0;31m# Specify the discount factor\u001b[0m\u001b[0;34m\u001b[0m\u001b[0;34m\u001b[0m\u001b[0m\n\u001b[1;32m     58\u001b[0m \u001b[0;34m\u001b[0m\u001b[0m\n\u001b[0;32m---> 59\u001b[0;31m \u001b[0mccp_matrix\u001b[0m \u001b[0;34m=\u001b[0m \u001b[0mestimate_ccp\u001b[0m\u001b[0;34m(\u001b[0m\u001b[0mdta\u001b[0m\u001b[0;34m,\u001b[0m \u001b[0mnum_choices\u001b[0m\u001b[0;34m,\u001b[0m \u001b[0mnum_periods\u001b[0m\u001b[0;34m,\u001b[0m \u001b[0mdiscount_factor\u001b[0m\u001b[0;34m)\u001b[0m\u001b[0;34m\u001b[0m\u001b[0;34m\u001b[0m\u001b[0m\n\u001b[0m\u001b[1;32m     60\u001b[0m \u001b[0mprint\u001b[0m\u001b[0;34m(\u001b[0m\u001b[0;34m\"Estimated CCP Matrix:\"\u001b[0m\u001b[0;34m)\u001b[0m\u001b[0;34m\u001b[0m\u001b[0;34m\u001b[0m\u001b[0m\n\u001b[1;32m     61\u001b[0m \u001b[0mprint\u001b[0m\u001b[0;34m(\u001b[0m\u001b[0mccp_matrix\u001b[0m\u001b[0;34m)\u001b[0m\u001b[0;34m\u001b[0m\u001b[0;34m\u001b[0m\u001b[0m\n",
      "\u001b[0;32m/var/folders/cf/0fy4v8b50jx90wrzrk8mmmqm0000gn/T/ipykernel_5540/549753936.py\u001b[0m in \u001b[0;36mestimate_ccp\u001b[0;34m(dta, num_choices, num_periods, discount_factor)\u001b[0m\n\u001b[1;32m      4\u001b[0m \u001b[0;32mdef\u001b[0m \u001b[0mestimate_ccp\u001b[0m\u001b[0;34m(\u001b[0m\u001b[0mdta\u001b[0m\u001b[0;34m,\u001b[0m \u001b[0mnum_choices\u001b[0m\u001b[0;34m,\u001b[0m \u001b[0mnum_periods\u001b[0m\u001b[0;34m,\u001b[0m \u001b[0mdiscount_factor\u001b[0m\u001b[0;34m)\u001b[0m\u001b[0;34m:\u001b[0m\u001b[0;34m\u001b[0m\u001b[0;34m\u001b[0m\u001b[0m\n\u001b[1;32m      5\u001b[0m     \u001b[0mnum_obs\u001b[0m \u001b[0;34m=\u001b[0m \u001b[0mdta\u001b[0m\u001b[0;34m.\u001b[0m\u001b[0mshape\u001b[0m\u001b[0;34m[\u001b[0m\u001b[0;36m0\u001b[0m\u001b[0;34m]\u001b[0m\u001b[0;34m\u001b[0m\u001b[0;34m\u001b[0m\u001b[0m\n\u001b[0;32m----> 6\u001b[0;31m     \u001b[0mcovariates\u001b[0m \u001b[0;34m=\u001b[0m \u001b[0mdta\u001b[0m\u001b[0;34m[\u001b[0m\u001b[0;34m'x'\u001b[0m\u001b[0;34m]\u001b[0m\u001b[0;34m.\u001b[0m\u001b[0mvalues\u001b[0m\u001b[0;34m.\u001b[0m\u001b[0mreshape\u001b[0m\u001b[0;34m(\u001b[0m\u001b[0;34m(\u001b[0m\u001b[0mnum_obs\u001b[0m\u001b[0;34m,\u001b[0m \u001b[0mnum_periods\u001b[0m\u001b[0;34m)\u001b[0m\u001b[0;34m)\u001b[0m\u001b[0;34m\u001b[0m\u001b[0;34m\u001b[0m\u001b[0m\n\u001b[0m\u001b[1;32m      7\u001b[0m \u001b[0;34m\u001b[0m\u001b[0m\n\u001b[1;32m      8\u001b[0m     \u001b[0;31m# Initialize CCP matrix\u001b[0m\u001b[0;34m\u001b[0m\u001b[0;34m\u001b[0m\u001b[0m\n",
      "\u001b[0;31mValueError\u001b[0m: cannot reshape array of size 20982 into shape (20982,27)"
     ]
    }
   ],
   "source": [
    "import numpy as np\n",
    "from scipy.optimize import minimize\n",
    "# Function to estimate CCP using Hotz and Miller method\n",
    "def estimate_ccp(dta, num_choices, num_periods, discount_factor):\n",
    "    num_obs = dta.shape[0]\n",
    "    covariates = dta['x'].values.reshape((num_obs, num_periods))\n",
    "\n",
    "    # Initialize CCP matrix\n",
    "    ccp_matrix = np.zeros((num_choices, num_periods))\n",
    "\n",
    "    for t in range(num_periods):\n",
    "        # Get data and covariates for time period t\n",
    "        choices_t = dta['d'].values\n",
    "        covariates_t = covariates[:, t]\n",
    "\n",
    "        # Estimate CCP for each choice\n",
    "        for i in range(num_choices):\n",
    "            # Filter data for choice i\n",
    "            choice_i_data = choices_t == i\n",
    "            choice_i_covariates = covariates_t[choice_i_data]\n",
    "\n",
    "            # Estimate CCP for choice i using Hotz and Miller method\n",
    "            ccp_estimate = estimate_choice_prob(choice_i_covariates, covariates_t, discount_factor)\n",
    "\n",
    "            # Update CCP matrix\n",
    "            ccp_matrix[i, t] = ccp_estimate\n",
    "\n",
    "    return ccp_matrix\n",
    "# Function to estimate choice probabilities using Hotz and Miller method\n",
    "def estimate_choice_prob(choice_data, covariates, discount_factor):\n",
    "    num_obs = choice_data.shape[0]\n",
    "    num_covariates = covariates.shape[1]\n",
    "\n",
    "    # Estimate parameters using maximum likelihood\n",
    "    initial_guess = np.zeros(num_covariates)\n",
    "    result = minimize(negative_log_likelihood, initial_guess, args=(choice_data, covariates, discount_factor))\n",
    "    params = result.x\n",
    "\n",
    "    # Calculate choice probabilities\n",
    "    choice_probs = np.exp(covariates @ params) / np.sum(np.exp(covariates @ params))\n",
    "\n",
    "    return choice_probs\n",
    "\n",
    "# Function to calculate negative log-likelihood\n",
    "def negative_log_likelihood(params, choice_data, covariates, discount_factor):\n",
    "    utilities = covariates @ params\n",
    "    log_likelihood = np.sum(np.log(choice_data @ np.exp(utilities)))\n",
    "    discount_factor_adjustment = (1 - discount_factor) * np.sum(utilities)\n",
    "    return -log_likelihood + discount_factor_adjustment\n",
    "\n",
    "\n",
    "\n",
    "dta = model.read_data()\n",
    "\n",
    "num_choices = 2  # Specify the number of choices (e.g., 2 for binary choice)\n",
    "num_periods = model.T  # Specify the number of periods (e.g., 1 for cross-sectional data)\n",
    "discount_factor = 0.95  # Specify the discount factor\n",
    "\n",
    "ccp_matrix = estimate_ccp(dta, num_choices, num_periods, discount_factor)\n",
    "print(\"Estimated CCP Matrix:\")\n",
    "print(ccp_matrix)"
   ]
  },
  {
   "cell_type": "code",
   "execution_count": null,
   "metadata": {},
   "outputs": [],
   "source": [
    "\n",
    "estimate_ccp(data, covariates, 2,model.T, model.beta)"
   ]
  },
  {
   "cell_type": "code",
   "execution_count": null,
   "metadata": {},
   "outputs": [],
   "source": []
  },
  {
   "cell_type": "code",
   "execution_count": null,
   "metadata": {},
   "outputs": [],
   "source": []
  }
 ],
 "metadata": {
  "kernelspec": {
   "display_name": "base",
   "language": "python",
   "name": "python3"
  },
  "language_info": {
   "codemirror_mode": {
    "name": "ipython",
    "version": 3
   },
   "file_extension": ".py",
   "mimetype": "text/x-python",
   "name": "python",
   "nbconvert_exporter": "python",
   "pygments_lexer": "ipython3",
   "version": "3.9.13"
  },
  "orig_nbformat": 4,
  "vscode": {
   "interpreter": {
    "hash": "32077810f91c82a01173fac87666ad4b066461331ac0e11d6466db2e366e3ab6"
   }
  }
 },
 "nbformat": 4,
 "nbformat_minor": 2
}
